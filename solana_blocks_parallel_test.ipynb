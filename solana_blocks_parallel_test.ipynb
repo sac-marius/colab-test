{
  "cells": [
    {
      "cell_type": "markdown",
      "metadata": {
        "id": "view-in-github",
        "colab_type": "text"
      },
      "source": [
        "<a href=\"https://colab.research.google.com/github/sac-marius/colab-test/blob/main/solana_blocks_parallel_test.ipynb\" target=\"_parent\"><img src=\"https://colab.research.google.com/assets/colab-badge.svg\" alt=\"Open In Colab\"/></a>"
      ]
    },
    {
      "cell_type": "markdown",
      "id": "98516613",
      "metadata": {
        "id": "98516613"
      },
      "source": [
        "# 🔗 Solana blokkanalyse – parallell uthenting via RPC\n",
        "\n",
        "Dette prosjektet ble satt opp med ChatGPT 1. august 2025. Samtalen kan refereres her: [https://chatgpt.com/share/e/688d1ed5-04f0-800f-a579-80b2a559e77c](https://chatgpt.com/share/e/688d1ed5-04f0-800f-a579-80b2a559e77c)\n",
        "\n",
        "GitHub-bruker: `sac-marius`\n",
        "\n",
        "## Innhold:\n",
        "- Henter de siste 1000 blokkene fra Solana\n",
        "- Bruker 10 samtidige tråder (`ThreadPoolExecutor`)\n",
        "- Parser ut transaksjonsdata: `timestamp`, `slot`, `from/to`, `lamports`\n",
        "- Lagrer som komprimert `.parquet`\n",
        "\n",
        "---\n"
      ]
    },
    {
      "cell_type": "code",
      "execution_count": 1,
      "id": "850f67e4",
      "metadata": {
        "colab": {
          "base_uri": "https://localhost:8080/"
        },
        "id": "850f67e4",
        "outputId": "83030e8e-4fc9-4f27-c0fc-02db4f942f8f"
      },
      "outputs": [
        {
          "output_type": "stream",
          "name": "stdout",
          "text": [
            "Collecting solana\n",
            "  Downloading solana-0.36.7-py3-none-any.whl.metadata (5.3 kB)\n",
            "Requirement already satisfied: pandas in /usr/local/lib/python3.11/dist-packages (2.2.2)\n",
            "Requirement already satisfied: pyarrow in /usr/local/lib/python3.11/dist-packages (18.1.0)\n",
            "Requirement already satisfied: tqdm in /usr/local/lib/python3.11/dist-packages (4.67.1)\n",
            "Collecting construct-typing<0.7.0,>=0.6.2 (from solana)\n",
            "  Downloading construct_typing-0.6.2-py3-none-any.whl.metadata (7.1 kB)\n",
            "Requirement already satisfied: httpx>=0.23.0 in /usr/local/lib/python3.11/dist-packages (from solana) (0.28.1)\n",
            "Collecting solders<0.27,>=0.23 (from solana)\n",
            "  Downloading solders-0.26.0-cp37-abi3-manylinux_2_17_x86_64.manylinux2014_x86_64.whl.metadata (3.6 kB)\n",
            "Requirement already satisfied: typing-extensions>=4.2.0 in /usr/local/lib/python3.11/dist-packages (from solana) (4.14.1)\n",
            "Requirement already satisfied: websockets<=15.0.1,>=9.0 in /usr/local/lib/python3.11/dist-packages (from solana) (15.0.1)\n",
            "Requirement already satisfied: numpy>=1.23.2 in /usr/local/lib/python3.11/dist-packages (from pandas) (2.0.2)\n",
            "Requirement already satisfied: python-dateutil>=2.8.2 in /usr/local/lib/python3.11/dist-packages (from pandas) (2.9.0.post0)\n",
            "Requirement already satisfied: pytz>=2020.1 in /usr/local/lib/python3.11/dist-packages (from pandas) (2025.2)\n",
            "Requirement already satisfied: tzdata>=2022.7 in /usr/local/lib/python3.11/dist-packages (from pandas) (2025.2)\n",
            "Collecting construct==2.10.68 (from construct-typing<0.7.0,>=0.6.2->solana)\n",
            "  Downloading construct-2.10.68.tar.gz (57 kB)\n",
            "\u001b[2K     \u001b[90m━━━━━━━━━━━━━━━━━━━━━━━━━━━━━━━━━━━━━━━━\u001b[0m \u001b[32m57.9/57.9 kB\u001b[0m \u001b[31m3.2 MB/s\u001b[0m eta \u001b[36m0:00:00\u001b[0m\n",
            "\u001b[?25h  Preparing metadata (setup.py) ... \u001b[?25l\u001b[?25hdone\n",
            "Requirement already satisfied: anyio in /usr/local/lib/python3.11/dist-packages (from httpx>=0.23.0->solana) (4.9.0)\n",
            "Requirement already satisfied: certifi in /usr/local/lib/python3.11/dist-packages (from httpx>=0.23.0->solana) (2025.7.14)\n",
            "Requirement already satisfied: httpcore==1.* in /usr/local/lib/python3.11/dist-packages (from httpx>=0.23.0->solana) (1.0.9)\n",
            "Requirement already satisfied: idna in /usr/local/lib/python3.11/dist-packages (from httpx>=0.23.0->solana) (3.10)\n",
            "Requirement already satisfied: h11>=0.16 in /usr/local/lib/python3.11/dist-packages (from httpcore==1.*->httpx>=0.23.0->solana) (0.16.0)\n",
            "Requirement already satisfied: six>=1.5 in /usr/local/lib/python3.11/dist-packages (from python-dateutil>=2.8.2->pandas) (1.17.0)\n",
            "Collecting jsonalias==0.1.1 (from solders<0.27,>=0.23->solana)\n",
            "  Downloading jsonalias-0.1.1-py3-none-any.whl.metadata (469 bytes)\n",
            "Requirement already satisfied: sniffio>=1.1 in /usr/local/lib/python3.11/dist-packages (from anyio->httpx>=0.23.0->solana) (1.3.1)\n",
            "Downloading solana-0.36.7-py3-none-any.whl (62 kB)\n",
            "\u001b[2K   \u001b[90m━━━━━━━━━━━━━━━━━━━━━━━━━━━━━━━━━━━━━━━━\u001b[0m \u001b[32m62.5/62.5 kB\u001b[0m \u001b[31m3.8 MB/s\u001b[0m eta \u001b[36m0:00:00\u001b[0m\n",
            "\u001b[?25hDownloading construct_typing-0.6.2-py3-none-any.whl (23 kB)\n",
            "Downloading solders-0.26.0-cp37-abi3-manylinux_2_17_x86_64.manylinux2014_x86_64.whl (13.5 MB)\n",
            "\u001b[2K   \u001b[90m━━━━━━━━━━━━━━━━━━━━━━━━━━━━━━━━━━━━━━━━\u001b[0m \u001b[32m13.5/13.5 MB\u001b[0m \u001b[31m64.0 MB/s\u001b[0m eta \u001b[36m0:00:00\u001b[0m\n",
            "\u001b[?25hDownloading jsonalias-0.1.1-py3-none-any.whl (1.3 kB)\n",
            "Building wheels for collected packages: construct\n",
            "  Building wheel for construct (setup.py) ... \u001b[?25l\u001b[?25hdone\n",
            "  Created wheel for construct: filename=construct-2.10.68-py3-none-any.whl size=59223 sha256=a043b491743d0f86673b28438beb43f9ac34865210251789cdcebd8317d8e670\n",
            "  Stored in directory: /root/.cache/pip/wheels/6a/5b/a1/35e70b419451f0f619898c0f9ec10f3d920721daed7bc24eab\n",
            "Successfully built construct\n",
            "Installing collected packages: jsonalias, construct, solders, construct-typing, solana\n",
            "Successfully installed construct-2.10.68 construct-typing-0.6.2 jsonalias-0.1.1 solana-0.36.7 solders-0.26.0\n"
          ]
        }
      ],
      "source": [
        "!pip install solana pandas pyarrow tqdm\n"
      ]
    },
    {
      "cell_type": "code",
      "execution_count": 2,
      "id": "907c575e",
      "metadata": {
        "id": "907c575e"
      },
      "outputs": [],
      "source": [
        "from solana.rpc.api import Client\n",
        "from concurrent.futures import ThreadPoolExecutor, as_completed\n",
        "import pandas as pd\n",
        "from tqdm import tqdm\n",
        "import time\n",
        "\n",
        "client = Client(\"https://api.mainnet-beta.solana.com\")\n"
      ]
    },
    {
      "cell_type": "code",
      "execution_count": 6,
      "id": "e819a9a2",
      "metadata": {
        "id": "e819a9a2"
      },
      "outputs": [],
      "source": [
        "from solana.rpc.api import Client\n",
        "from concurrent.futures import ThreadPoolExecutor, as_completed\n",
        "import pandas as pd\n",
        "from tqdm import tqdm\n",
        "import time\n",
        "\n",
        "client = Client(\"https://api.mainnet-beta.solana.com\")\n",
        "\n",
        "def get_latest_slot():\n",
        "    response = client.get_slot()\n",
        "    return response.value\n",
        "\n",
        "def get_block_data(slot):\n",
        "    try:\n",
        "        response = client.get_block(slot, max_supported_transaction_version=0)\n",
        "        result = response['result']\n",
        "        if not result:\n",
        "            return []\n",
        "\n",
        "        block_time = result['blockTime']\n",
        "        txs = result['transactions']\n",
        "        parsed = []\n",
        "        for tx in txs:\n",
        "            message = tx['transaction']['message']\n",
        "            meta = tx['meta']\n",
        "            if not meta or not meta.get('postBalances'):\n",
        "                continue\n",
        "\n",
        "            accounts = message['accountKeys']\n",
        "            from_addr = accounts[0]\n",
        "            to_addr = accounts[1] if len(accounts) > 1 else None\n",
        "\n",
        "            lamports = (\n",
        "                meta['postBalances'][1] - meta['preBalances'][1]\n",
        "                if len(meta['postBalances']) > 1 else 0\n",
        "            )\n",
        "\n",
        "            parsed.append({\n",
        "                'slot': slot,\n",
        "                'timestamp': block_time,\n",
        "                'tx_signature': tx['transaction']['signatures'][0],\n",
        "                'from_address': from_addr,\n",
        "                'to_address': to_addr,\n",
        "                'lamports': lamports\n",
        "            })\n",
        "        return parsed\n",
        "\n",
        "    except Exception as e:\n",
        "        print(f\"⚠️ Feil på slot {slot}: {e}\")\n",
        "        return []"
      ]
    },
    {
      "cell_type": "code",
      "execution_count": 7,
      "id": "0806acd3",
      "metadata": {
        "colab": {
          "base_uri": "https://localhost:8080/",
          "height": 1000
        },
        "id": "0806acd3",
        "outputId": "f866830f-203a-4b63-b2da-90bc18fad29a"
      },
      "outputs": [
        {
          "output_type": "stream",
          "name": "stderr",
          "text": [
            "Henter blokker:   0%|          | 1/1000 [00:00<02:23,  6.95it/s]"
          ]
        },
        {
          "output_type": "stream",
          "name": "stdout",
          "text": [
            "⚠️ Feil på slot 357230918: \n",
            "⚠️ Feil på slot 357230916: \n",
            "⚠️ Feil på slot 357230919: \n",
            "⚠️ Feil på slot 357230920: \n",
            "⚠️ Feil på slot 357230921: \n"
          ]
        },
        {
          "output_type": "stream",
          "name": "stderr",
          "text": [
            "\rHenter blokker:   1%|          | 6/1000 [00:00<00:53, 18.49it/s]"
          ]
        },
        {
          "output_type": "stream",
          "name": "stdout",
          "text": [
            "⚠️ Feil på slot 357230922: ⚠️ Feil på slot 357230923: \n",
            "\n",
            "⚠️ Feil på slot 357230926: \n",
            "⚠️ Feil på slot 357230925: \n",
            "⚠️ Feil på slot 357230924: \n"
          ]
        },
        {
          "output_type": "stream",
          "name": "stderr",
          "text": [
            "\rHenter blokker:   1%|          | 11/1000 [00:00<00:46, 21.09it/s]"
          ]
        },
        {
          "output_type": "stream",
          "name": "stdout",
          "text": [
            "⚠️ Feil på slot 357230927: \n",
            "⚠️ Feil på slot 357230928: \n",
            "⚠️ Feil på slot 357230929: \n",
            "⚠️ Feil på slot 357230931: \n",
            "⚠️ Feil på slot 357230930: \n"
          ]
        },
        {
          "output_type": "stream",
          "name": "stderr",
          "text": [
            "\rHenter blokker:   2%|▏         | 16/1000 [00:00<00:44, 21.89it/s]"
          ]
        },
        {
          "output_type": "stream",
          "name": "stdout",
          "text": [
            "⚠️ Feil på slot 357230933: \n",
            "⚠️ Feil på slot 357230932: \n",
            "⚠️ Feil på slot 357230936: \n",
            "⚠️ Feil på slot 357230935: \n",
            "⚠️ Feil på slot 357230934: \n",
            "⚠️ Feil på slot 357230937: \n"
          ]
        },
        {
          "output_type": "stream",
          "name": "stderr",
          "text": [
            "Henter blokker:   3%|▎         | 28/1000 [00:01<00:40, 23.83it/s]"
          ]
        },
        {
          "output_type": "stream",
          "name": "stdout",
          "text": [
            "⚠️ Feil på slot 357230912: 'solders.rpc.responses.GetBlockResp' object is not subscriptable\n",
            "⚠️ Feil på slot 357230938: \n",
            "⚠️ Feil på slot 357230940: \n",
            "⚠️ Feil på slot 357230942: \n",
            "⚠️ Feil på slot 357230939: \n",
            "⚠️ Feil på slot 357230941: \n",
            "⚠️ Feil på slot 357230945: \n",
            "⚠️ Feil på slot 357230915: 'solders.rpc.responses.GetBlockResp' object is not subscriptable\n"
          ]
        },
        {
          "output_type": "stream",
          "name": "stderr",
          "text": [
            "\rHenter blokker:   3%|▎         | 31/1000 [00:01<00:52, 18.34it/s]"
          ]
        },
        {
          "output_type": "stream",
          "name": "stdout",
          "text": [
            "⚠️ Feil på slot 357230943: \n",
            "⚠️ Feil på slot 357230944: \n",
            "⚠️ Feil på slot 357230914: 'solders.rpc.responses.GetBlockResp' object is not subscriptable\n",
            "⚠️ Feil på slot 357230947: \n",
            "⚠️ Feil på slot 357230948: \n",
            "⚠️ Feil på slot 357230946: \n"
          ]
        },
        {
          "output_type": "stream",
          "name": "stderr",
          "text": [
            "Henter blokker:   4%|▍         | 39/1000 [00:01<00:47, 20.35it/s]"
          ]
        },
        {
          "output_type": "stream",
          "name": "stdout",
          "text": [
            "⚠️ Feil på slot 357230917: 'solders.rpc.responses.GetBlockResp' object is not subscriptable⚠️ Feil på slot 357230949: \n",
            "⚠️ Feil på slot 357230952: \n",
            "\n",
            "⚠️ Feil på slot 357230957: \n",
            "⚠️ Feil på slot 357230950: \n",
            "⚠️ Feil på slot 357230959: \n",
            "⚠️ Feil på slot 357230951: \n",
            "⚠️ Feil på slot 357230913: 'solders.rpc.responses.GetBlockResp' object is not subscriptable\n"
          ]
        },
        {
          "output_type": "stream",
          "name": "stderr",
          "text": [
            "Henter blokker:   5%|▌         | 54/1000 [00:02<00:27, 34.87it/s]"
          ]
        },
        {
          "output_type": "stream",
          "name": "stdout",
          "text": [
            "⚠️ Feil på slot 357230956: \n",
            "⚠️ Feil på slot 357230954: \n",
            "⚠️ Feil på slot 357230955: \n",
            "⚠️ Feil på slot 357230953: \n",
            "⚠️ Feil på slot 357230958: \n",
            "⚠️ Feil på slot 357230960: \n",
            "⚠️ Feil på slot 357230962: \n",
            "⚠️ Feil på slot 357230961: \n",
            "⚠️ Feil på slot 357230964: \n",
            "⚠️ Feil på slot 357230963: \n",
            "⚠️ Feil på slot 357230965: \n"
          ]
        },
        {
          "output_type": "stream",
          "name": "stderr",
          "text": [
            "\rHenter blokker:   6%|▌         | 59/1000 [00:02<00:26, 36.00it/s]"
          ]
        },
        {
          "output_type": "stream",
          "name": "stdout",
          "text": [
            "⚠️ Feil på slot 357230967: \n",
            "⚠️ Feil på slot 357230966: \n",
            "⚠️ Feil på slot 357230968: \n",
            "⚠️ Feil på slot 357230969: \n",
            "⚠️ Feil på slot 357230970: \n",
            "⚠️ Feil på slot 357230972: \n",
            "⚠️ Feil på slot 357230971: \n",
            "⚠️ Feil på slot 357230974: \n",
            "⚠️ Feil på slot 357230973: \n",
            "⚠️ Feil på slot 357230975: \n"
          ]
        },
        {
          "output_type": "stream",
          "name": "stderr",
          "text": [
            "Henter blokker:   7%|▋         | 70/1000 [00:02<00:21, 42.47it/s]"
          ]
        },
        {
          "output_type": "stream",
          "name": "stdout",
          "text": [
            "⚠️ Feil på slot 357230977: \n",
            "⚠️ Feil på slot 357230976: \n",
            "⚠️ Feil på slot 357230978: \n",
            "⚠️ Feil på slot 357230979: \n",
            "⚠️ Feil på slot 357230980: \n",
            "⚠️ Feil på slot 357230982: \n",
            "⚠️ Feil på slot 357230981: \n",
            "⚠️ Feil på slot 357230983: \n",
            "⚠️ Feil på slot 357230984: \n",
            "⚠️ Feil på slot 357230985: \n",
            "⚠️ Feil på slot 357230988: \n"
          ]
        },
        {
          "output_type": "stream",
          "name": "stderr",
          "text": [
            "Henter blokker:   8%|▊         | 84/1000 [00:02<00:18, 48.48it/s]"
          ]
        },
        {
          "output_type": "stream",
          "name": "stdout",
          "text": [
            "⚠️ Feil på slot 357230987: \n",
            "⚠️ Feil på slot 357230986: \n",
            "⚠️ Feil på slot 357230989: \n",
            "⚠️ Feil på slot 357230990: \n",
            "⚠️ Feil på slot 357230991: \n",
            "⚠️ Feil på slot 357230992: \n",
            "⚠️ Feil på slot 357230994: \n",
            "⚠️ Feil på slot 357230993: \n",
            "⚠️ Feil på slot 357230995: \n",
            "⚠️ Feil på slot 357230996: \n",
            "⚠️ Feil på slot 357230997: \n",
            "⚠️ Feil på slot 357230998: \n"
          ]
        },
        {
          "output_type": "stream",
          "name": "stderr",
          "text": [
            "Henter blokker:  10%|▉         | 96/1000 [00:03<00:18, 49.45it/s]"
          ]
        },
        {
          "output_type": "stream",
          "name": "stdout",
          "text": [
            "⚠️ Feil på slot 357230999: \n",
            "⚠️ Feil på slot 357231000: \n",
            "⚠️ Feil på slot 357231001: \n",
            "⚠️ Feil på slot 357231002: \n",
            "⚠️ Feil på slot 357231004: \n",
            "⚠️ Feil på slot 357231003: \n",
            "⚠️ Feil på slot 357231005: \n",
            "⚠️ Feil på slot 357231006: \n",
            "⚠️ Feil på slot 357231008: \n",
            "⚠️ Feil på slot 357231007: \n",
            "⚠️ Feil på slot 357231009: \n"
          ]
        },
        {
          "output_type": "stream",
          "name": "stderr",
          "text": [
            "Henter blokker:  11%|█         | 109/1000 [00:03<00:18, 47.56it/s]"
          ]
        },
        {
          "output_type": "stream",
          "name": "stdout",
          "text": [
            "⚠️ Feil på slot 357231010: \n",
            "⚠️ Feil på slot 357231011: \n",
            "⚠️ Feil på slot 357231012: \n",
            "⚠️ Feil på slot 357231013: \n",
            "⚠️ Feil på slot 357231014: \n",
            "⚠️ Feil på slot 357231015: \n",
            "⚠️ Feil på slot 357231016: \n",
            "⚠️ Feil på slot 357231018: \n",
            "⚠️ Feil på slot 357231017: \n",
            "⚠️ Feil på slot 357231019: \n",
            "⚠️ Feil på slot 357231020: \n",
            "⚠️ Feil på slot 357231021: \n",
            "⚠️ Feil på slot 357231022: \n"
          ]
        },
        {
          "output_type": "stream",
          "name": "stderr",
          "text": [
            "\rHenter blokker:  12%|█▏        | 116/1000 [00:03<00:17, 50.29it/s]"
          ]
        },
        {
          "output_type": "stream",
          "name": "stdout",
          "text": [
            "⚠️ Feil på slot 357231023: \n",
            "⚠️ Feil på slot 357231024: \n",
            "⚠️ Feil på slot 357231025: \n",
            "⚠️ Feil på slot 357231026: \n",
            "⚠️ Feil på slot 357231027: \n",
            "⚠️ Feil på slot 357231029: \n",
            "⚠️ Feil på slot 357231028: \n",
            "⚠️ Feil på slot 357231030: \n",
            "⚠️ Feil på slot 357231031: \n",
            "⚠️ Feil på slot 357231032: \n",
            "⚠️ Feil på slot 357231033: \n",
            "⚠️ Feil på slot 357231034: \n"
          ]
        },
        {
          "output_type": "stream",
          "name": "stderr",
          "text": [
            "Henter blokker:  13%|█▎        | 129/1000 [00:03<00:18, 48.36it/s]"
          ]
        },
        {
          "output_type": "stream",
          "name": "stdout",
          "text": [
            "⚠️ Feil på slot 357231035: \n",
            "⚠️ Feil på slot 357231036: \n",
            "⚠️ Feil på slot 357231039: \n",
            "⚠️ Feil på slot 357231037: \n",
            "⚠️ Feil på slot 357231038: \n",
            "⚠️ Feil på slot 357231040: \n",
            "⚠️ Feil på slot 357231041: \n",
            "⚠️ Feil på slot 357231042: \n",
            "⚠️ Feil på slot 357231043: \n",
            "⚠️ Feil på slot 357231044: \n",
            "⚠️ Feil på slot 357231045: \n"
          ]
        },
        {
          "output_type": "stream",
          "name": "stderr",
          "text": [
            "Henter blokker:  14%|█▍        | 144/1000 [00:03<00:16, 52.30it/s]"
          ]
        },
        {
          "output_type": "stream",
          "name": "stdout",
          "text": [
            "⚠️ Feil på slot 357231046: \n",
            "⚠️ Feil på slot 357231048: \n",
            "⚠️ Feil på slot 357231047: \n",
            "⚠️ Feil på slot 357231049: \n",
            "⚠️ Feil på slot 357231050: \n",
            "⚠️ Feil på slot 357231051: \n",
            "⚠️ Feil på slot 357231052: \n",
            "⚠️ Feil på slot 357231053: \n",
            "⚠️ Feil på slot 357231054: \n",
            "⚠️ Feil på slot 357231055: \n",
            "⚠️ Feil på slot 357231056: \n"
          ]
        },
        {
          "output_type": "stream",
          "name": "stderr",
          "text": [
            "Henter blokker:  16%|█▌        | 156/1000 [00:04<00:17, 48.55it/s]"
          ]
        },
        {
          "output_type": "stream",
          "name": "stdout",
          "text": [
            "⚠️ Feil på slot 357231057: \n",
            "⚠️ Feil på slot 357231058: \n",
            "⚠️ Feil på slot 357231059: \n",
            "⚠️ Feil på slot 357231061: \n",
            "⚠️ Feil på slot 357231060: \n",
            "⚠️ Feil på slot 357231063: \n",
            "⚠️ Feil på slot 357231062: \n",
            "⚠️ Feil på slot 357231064: \n",
            "⚠️ Feil på slot 357231065: \n",
            "⚠️ Feil på slot 357231066: \n",
            "⚠️ Feil på slot 357231068: \n"
          ]
        },
        {
          "output_type": "stream",
          "name": "stderr",
          "text": [
            "\rHenter blokker:  16%|█▋        | 164/1000 [00:04<00:15, 53.57it/s]"
          ]
        },
        {
          "output_type": "stream",
          "name": "stdout",
          "text": [
            "⚠️ Feil på slot 357231069: \n",
            "⚠️ Feil på slot 357231067: \n",
            "⚠️ Feil på slot 357231073: \n",
            "⚠️ Feil på slot 357231070: \n",
            "⚠️ Feil på slot 357231071: \n",
            "⚠️ Feil på slot 357231072: \n",
            "⚠️ Feil på slot 357231074: \n",
            "⚠️ Feil på slot 357231075: \n",
            "⚠️ Feil på slot 357231076: \n",
            "⚠️ Feil på slot 357231078: \n"
          ]
        },
        {
          "output_type": "stream",
          "name": "stderr",
          "text": [
            "Henter blokker:  18%|█▊        | 176/1000 [00:04<00:17, 46.83it/s]"
          ]
        },
        {
          "output_type": "stream",
          "name": "stdout",
          "text": [
            "⚠️ Feil på slot 357231079: \n",
            "⚠️ Feil på slot 357231077: \n",
            "⚠️ Feil på slot 357231080: \n",
            "⚠️ Feil på slot 357231082: \n",
            "⚠️ Feil på slot 357231084: \n",
            "⚠️ Feil på slot 357231083: \n",
            "⚠️ Feil på slot 357231081: \n",
            "⚠️ Feil på slot 357231085: \n",
            "⚠️ Feil på slot 357231086: \n",
            "⚠️ Feil på slot 357231088: \n",
            "⚠️ Feil på slot 357231087: \n"
          ]
        },
        {
          "output_type": "stream",
          "name": "stderr",
          "text": [
            "\rHenter blokker:  18%|█▊        | 185/1000 [00:04<00:14, 55.04it/s]"
          ]
        },
        {
          "output_type": "stream",
          "name": "stdout",
          "text": [
            "⚠️ Feil på slot 357231089: \n",
            "⚠️ Feil på slot 357231090: \n",
            "⚠️ Feil på slot 357231095: \n",
            "⚠️ Feil på slot 357231091: \n",
            "⚠️ Feil på slot 357231093: \n",
            "⚠️ Feil på slot 357231094: \n",
            "⚠️ Feil på slot 357231092: \n",
            "⚠️ Feil på slot 357231096: \n",
            "⚠️ Feil på slot 357231097: \n",
            "⚠️ Feil på slot 357231099: \n",
            "⚠️ Feil på slot 357231098: \n"
          ]
        },
        {
          "output_type": "stream",
          "name": "stderr",
          "text": [
            "Henter blokker:  20%|█▉        | 197/1000 [00:05<00:16, 47.50it/s]"
          ]
        },
        {
          "output_type": "stream",
          "name": "stdout",
          "text": [
            "⚠️ Feil på slot 357231100: \n",
            "⚠️ Feil på slot 357231101: \n",
            "⚠️ Feil på slot 357231102: \n",
            "⚠️ Feil på slot 357231105: \n",
            "⚠️ Feil på slot 357231104: \n",
            "⚠️ Feil på slot 357231103: \n",
            "⚠️ Feil på slot 357231106: \n",
            "⚠️ Feil på slot 357231107: \n",
            "⚠️ Feil på slot 357231108: \n",
            "⚠️ Feil på slot 357231109: \n",
            "⚠️ Feil på slot 357231110: \n"
          ]
        },
        {
          "output_type": "stream",
          "name": "stderr",
          "text": [
            "\rHenter blokker:  20%|██        | 205/1000 [00:05<00:14, 54.94it/s]"
          ]
        },
        {
          "output_type": "stream",
          "name": "stdout",
          "text": [
            "⚠️ Feil på slot 357231112: \n",
            "⚠️ Feil på slot 357231111: \n",
            "⚠️ Feil på slot 357231113: \n",
            "⚠️ Feil på slot 357231115: \n",
            "⚠️ Feil på slot 357231114: \n",
            "⚠️ Feil på slot 357231116: \n",
            "⚠️ Feil på slot 357231117: \n",
            "⚠️ Feil på slot 357231118: \n",
            "⚠️ Feil på slot 357231119: \n",
            "⚠️ Feil på slot 357231120: \n",
            "⚠️ Feil på slot 357231122: \n"
          ]
        },
        {
          "output_type": "stream",
          "name": "stderr",
          "text": [
            "Henter blokker:  22%|██▏       | 217/1000 [00:05<00:16, 47.28it/s]"
          ]
        },
        {
          "output_type": "stream",
          "name": "stdout",
          "text": [
            "⚠️ Feil på slot 357231121: \n",
            "⚠️ Feil på slot 357231123: \n",
            "⚠️ Feil på slot 357231125: \n",
            "⚠️ Feil på slot 357231124: \n",
            "⚠️ Feil på slot 357231126: \n",
            "⚠️ Feil på slot 357231127: \n",
            "⚠️ Feil på slot 357231128: \n",
            "⚠️ Feil på slot 357231130: \n",
            "⚠️ Feil på slot 357231129: \n",
            "⚠️ Feil på slot 357231131: \n",
            "⚠️ Feil på slot 357231132: \n"
          ]
        },
        {
          "output_type": "stream",
          "name": "stderr",
          "text": [
            "\rHenter blokker:  23%|██▎       | 226/1000 [00:05<00:15, 48.59it/s]"
          ]
        },
        {
          "output_type": "stream",
          "name": "stdout",
          "text": [
            "⚠️ Feil på slot 357231133: \n",
            "⚠️ Feil på slot 357231135: \n",
            "⚠️ Feil på slot 357231134: \n",
            "⚠️ Feil på slot 357231136: \n",
            "⚠️ Feil på slot 357231137: \n",
            "⚠️ Feil på slot 357231139: \n",
            "⚠️ Feil på slot 357231138: \n",
            "⚠️ Feil på slot 357231140: \n",
            "⚠️ Feil på slot 357231142: \n",
            "⚠️ Feil på slot 357231143: \n",
            "⚠️ Feil på slot 357231141: \n"
          ]
        },
        {
          "output_type": "stream",
          "name": "stderr",
          "text": [
            "Henter blokker:  24%|██▍       | 239/1000 [00:05<00:15, 49.67it/s]"
          ]
        },
        {
          "output_type": "stream",
          "name": "stdout",
          "text": [
            "⚠️ Feil på slot 357231145: \n",
            "⚠️ Feil på slot 357231146: \n",
            "⚠️ Feil på slot 357231144: \n",
            "⚠️ Feil på slot 357231147: \n",
            "⚠️ Feil på slot 357231149: \n",
            "⚠️ Feil på slot 357231148: \n",
            "⚠️ Feil på slot 357231150: \n",
            "⚠️ Feil på slot 357231153: \n",
            "⚠️ Feil på slot 357231152: \n",
            "⚠️ Feil på slot 357231151: \n",
            "⚠️ Feil på slot 357231154: \n"
          ]
        },
        {
          "output_type": "stream",
          "name": "stderr",
          "text": [
            "Henter blokker:  25%|██▌       | 252/1000 [00:06<00:14, 51.49it/s]"
          ]
        },
        {
          "output_type": "stream",
          "name": "stdout",
          "text": [
            "⚠️ Feil på slot 357231155: \n",
            "⚠️ Feil på slot 357231156: \n",
            "⚠️ Feil på slot 357231157: \n",
            "⚠️ Feil på slot 357231160: \n",
            "⚠️ Feil på slot 357231159: \n",
            "⚠️ Feil på slot 357231158: \n",
            "⚠️ Feil på slot 357231161: \n",
            "⚠️ Feil på slot 357231162: \n",
            "⚠️ Feil på slot 357231163: \n",
            "⚠️ Feil på slot 357231164: \n"
          ]
        },
        {
          "output_type": "stream",
          "name": "stderr",
          "text": [
            "\rHenter blokker:  26%|██▌       | 258/1000 [00:06<00:15, 46.61it/s]"
          ]
        },
        {
          "output_type": "stream",
          "name": "stdout",
          "text": [
            "⚠️ Feil på slot 357231165: \n",
            "⚠️ Feil på slot 357231166: \n",
            "⚠️ Feil på slot 357231167: \n",
            "⚠️ Feil på slot 357231168: \n",
            "⚠️ Feil på slot 357231170: \n",
            "⚠️ Feil på slot 357231169: \n",
            "⚠️ Feil på slot 357231171: \n",
            "⚠️ Feil på slot 357231173: \n",
            "⚠️ Feil på slot 357231174: \n",
            "⚠️ Feil på slot 357231172: \n"
          ]
        },
        {
          "output_type": "stream",
          "name": "stderr",
          "text": [
            "Henter blokker:  27%|██▋       | 272/1000 [00:06<00:14, 51.97it/s]"
          ]
        },
        {
          "output_type": "stream",
          "name": "stdout",
          "text": [
            "⚠️ Feil på slot 357231175: \n",
            "⚠️ Feil på slot 357231176: \n",
            "⚠️ Feil på slot 357231177: \n",
            "⚠️ Feil på slot 357231178: \n",
            "⚠️ Feil på slot 357231179: \n",
            "⚠️ Feil på slot 357231180: \n",
            "⚠️ Feil på slot 357231181: \n",
            "⚠️ Feil på slot 357231182: \n",
            "⚠️ Feil på slot 357231183: \n",
            "⚠️ Feil på slot 357231184: \n",
            "⚠️ Feil på slot 357231185: \n",
            "⚠️ Feil på slot 357231186: \n"
          ]
        },
        {
          "output_type": "stream",
          "name": "stderr",
          "text": [
            "Henter blokker:  29%|██▊       | 286/1000 [00:06<00:13, 51.32it/s]"
          ]
        },
        {
          "output_type": "stream",
          "name": "stdout",
          "text": [
            "⚠️ Feil på slot 357231187: \n",
            "⚠️ Feil på slot 357231188: \n",
            "⚠️ Feil på slot 357231189: \n",
            "⚠️ Feil på slot 357231190: \n",
            "⚠️ Feil på slot 357231191: \n",
            "⚠️ Feil på slot 357231192: \n",
            "⚠️ Feil på slot 357231194: \n",
            "⚠️ Feil på slot 357231193: \n",
            "⚠️ Feil på slot 357231195: \n",
            "⚠️ Feil på slot 357231196: \n",
            "⚠️ Feil på slot 357231197: \n"
          ]
        },
        {
          "output_type": "stream",
          "name": "stderr",
          "text": [
            "\rHenter blokker:  29%|██▉       | 292/1000 [00:06<00:13, 52.89it/s]"
          ]
        },
        {
          "output_type": "stream",
          "name": "stdout",
          "text": [
            "⚠️ Feil på slot 357231198: \n",
            "⚠️ Feil på slot 357231199: \n",
            "⚠️ Feil på slot 357231200: \n",
            "⚠️ Feil på slot 357231201: \n",
            "⚠️ Feil på slot 357231202: \n",
            "⚠️ Feil på slot 357231204: \n",
            "⚠️ Feil på slot 357231203: \n",
            "⚠️ Feil på slot 357231205: \n",
            "⚠️ Feil på slot 357231206: \n",
            "⚠️ Feil på slot 357231207: \n",
            "⚠️ Feil på slot 357231208: \n"
          ]
        },
        {
          "output_type": "stream",
          "name": "stderr",
          "text": [
            "Henter blokker:  31%|███       | 306/1000 [00:07<00:13, 52.33it/s]"
          ]
        },
        {
          "output_type": "stream",
          "name": "stdout",
          "text": [
            "⚠️ Feil på slot 357231209: \n",
            "⚠️ Feil på slot 357231210: \n",
            "⚠️ Feil på slot 357231211: \n",
            "⚠️ Feil på slot 357231212: \n",
            "⚠️ Feil på slot 357231213: \n",
            "⚠️ Feil på slot 357231214: \n",
            "⚠️ Feil på slot 357231216: \n",
            "⚠️ Feil på slot 357231215: \n",
            "⚠️ Feil på slot 357231217: \n",
            "⚠️ Feil på slot 357231218: \n",
            "⚠️ Feil på slot 357231219: \n"
          ]
        },
        {
          "output_type": "stream",
          "name": "stderr",
          "text": [
            "Henter blokker:  32%|███▏      | 318/1000 [00:07<00:13, 50.01it/s]"
          ]
        },
        {
          "output_type": "stream",
          "name": "stdout",
          "text": [
            "⚠️ Feil på slot 357231221: \n",
            "⚠️ Feil på slot 357231220: \n",
            "⚠️ Feil på slot 357231222: \n",
            "⚠️ Feil på slot 357231223: \n",
            "⚠️ Feil på slot 357231224: \n",
            "⚠️ Feil på slot 357231225: \n",
            "⚠️ Feil på slot 357231226: \n",
            "⚠️ Feil på slot 357231227: \n",
            "⚠️ Feil på slot 357231228: \n",
            "⚠️ Feil på slot 357231229: \n",
            "⚠️ Feil på slot 357231231: \n",
            "⚠️ Feil på slot 357231230: \n"
          ]
        },
        {
          "output_type": "stream",
          "name": "stderr",
          "text": [
            "Henter blokker:  33%|███▎      | 331/1000 [00:07<00:13, 50.77it/s]"
          ]
        },
        {
          "output_type": "stream",
          "name": "stdout",
          "text": [
            "⚠️ Feil på slot 357231232: \n",
            "⚠️ Feil på slot 357231234: \n",
            "⚠️ Feil på slot 357231233: \n",
            "⚠️ Feil på slot 357231235: \n",
            "⚠️ Feil på slot 357231236: \n",
            "⚠️ Feil på slot 357231237: \n",
            "⚠️ Feil på slot 357231238: \n",
            "⚠️ Feil på slot 357231239: \n",
            "⚠️ Feil på slot 357231241: \n",
            "⚠️ Feil på slot 357231240: \n",
            "⚠️ Feil på slot 357231242: \n"
          ]
        },
        {
          "output_type": "stream",
          "name": "stderr",
          "text": [
            "\rHenter blokker:  34%|███▎      | 337/1000 [00:07<00:13, 50.29it/s]"
          ]
        },
        {
          "output_type": "stream",
          "name": "stdout",
          "text": [
            "⚠️ Feil på slot 357231243: \n",
            "⚠️ Feil på slot 357231244: \n",
            "⚠️ Feil på slot 357231245: \n",
            "⚠️ Feil på slot 357231246: \n",
            "⚠️ Feil på slot 357231247: \n",
            "⚠️ Feil på slot 357231248: \n",
            "⚠️ Feil på slot 357231249: \n",
            "⚠️ Feil på slot 357231251: \n",
            "⚠️ Feil på slot 357231250: \n",
            "⚠️ Feil på slot 357231252: \n",
            "⚠️ Feil på slot 357231253: \n",
            "⚠️ Feil på slot 357231254: \n"
          ]
        },
        {
          "output_type": "stream",
          "name": "stderr",
          "text": [
            "Henter blokker:  35%|███▌      | 350/1000 [00:08<00:12, 50.19it/s]"
          ]
        },
        {
          "output_type": "stream",
          "name": "stdout",
          "text": [
            "⚠️ Feil på slot 357231255: \n",
            "⚠️ Feil på slot 357231256: \n",
            "⚠️ Feil på slot 357231257: \n",
            "⚠️ Feil på slot 357231258: \n",
            "⚠️ Feil på slot 357231259: \n",
            "⚠️ Feil på slot 357231260: \n",
            "⚠️ Feil på slot 357231261: \n",
            "⚠️ Feil på slot 357231263: \n",
            "⚠️ Feil på slot 357231262: \n",
            "⚠️ Feil på slot 357231264: \n",
            "⚠️ Feil på slot 357231265: \n"
          ]
        },
        {
          "output_type": "stream",
          "name": "stderr",
          "text": [
            "Henter blokker:  36%|███▌      | 362/1000 [00:08<00:12, 52.61it/s]"
          ]
        },
        {
          "output_type": "stream",
          "name": "stdout",
          "text": [
            "⚠️ Feil på slot 357231266: \n",
            "⚠️ Feil på slot 357231267: \n",
            "⚠️ Feil på slot 357231268: \n",
            "⚠️ Feil på slot 357231269: \n",
            "⚠️ Feil på slot 357231270: \n",
            "⚠️ Feil på slot 357231271: \n",
            "⚠️ Feil på slot 357231272: \n",
            "⚠️ Feil på slot 357231273: \n",
            "⚠️ Feil på slot 357231274: \n",
            "⚠️ Feil på slot 357231275: \n",
            "⚠️ Feil på slot 357231276: \n"
          ]
        },
        {
          "output_type": "stream",
          "name": "stderr",
          "text": [
            "Henter blokker:  38%|███▊      | 375/1000 [00:08<00:11, 53.97it/s]"
          ]
        },
        {
          "output_type": "stream",
          "name": "stdout",
          "text": [
            "⚠️ Feil på slot 357231277: \n",
            "⚠️ Feil på slot 357231278: \n",
            "⚠️ Feil på slot 357231279: \n",
            "⚠️ Feil på slot 357231280: \n",
            "⚠️ Feil på slot 357231281: \n",
            "⚠️ Feil på slot 357231283: \n",
            "⚠️ Feil på slot 357231282: \n",
            "⚠️ Feil på slot 357231284: \n",
            "⚠️ Feil på slot 357231285: \n",
            "⚠️ Feil på slot 357231286: \n",
            "⚠️ Feil på slot 357231287: \n"
          ]
        },
        {
          "output_type": "stream",
          "name": "stderr",
          "text": [
            "\rHenter blokker:  38%|███▊      | 381/1000 [00:08<00:12, 48.64it/s]"
          ]
        },
        {
          "output_type": "stream",
          "name": "stdout",
          "text": [
            "⚠️ Feil på slot 357231288: \n",
            "⚠️ Feil på slot 357231289: \n",
            "⚠️ Feil på slot 357231290: \n",
            "⚠️ Feil på slot 357231291: \n",
            "⚠️ Feil på slot 357231292: \n",
            "⚠️ Feil på slot 357231293: \n",
            "⚠️ Feil på slot 357231294: \n",
            "⚠️ Feil på slot 357231295: \n",
            "⚠️ Feil på slot 357231296: \n",
            "⚠️ Feil på slot 357231297: \n"
          ]
        },
        {
          "output_type": "stream",
          "name": "stderr",
          "text": [
            "Henter blokker:  40%|███▉      | 395/1000 [00:08<00:11, 53.38it/s]"
          ]
        },
        {
          "output_type": "stream",
          "name": "stdout",
          "text": [
            "⚠️ Feil på slot 357231298: \n",
            "⚠️ Feil på slot 357231299: \n",
            "⚠️ Feil på slot 357231300: \n",
            "⚠️ Feil på slot 357231301: \n",
            "⚠️ Feil på slot 357231302: \n",
            "⚠️ Feil på slot 357231304: \n",
            "⚠️ Feil på slot 357231303: \n",
            "⚠️ Feil på slot 357231305: \n",
            "⚠️ Feil på slot 357231306: \n",
            "⚠️ Feil på slot 357231307: \n",
            "⚠️ Feil på slot 357231308: \n"
          ]
        },
        {
          "output_type": "stream",
          "name": "stderr",
          "text": [
            "Henter blokker:  41%|████      | 407/1000 [00:09<00:11, 50.15it/s]"
          ]
        },
        {
          "output_type": "stream",
          "name": "stdout",
          "text": [
            "⚠️ Feil på slot 357231309: \n",
            "⚠️ Feil på slot 357231311: \n",
            "⚠️ Feil på slot 357231310: \n",
            "⚠️ Feil på slot 357231313: \n",
            "⚠️ Feil på slot 357231315: \n",
            "⚠️ Feil på slot 357231314: \n",
            "⚠️ Feil på slot 357231312: \n",
            "⚠️ Feil på slot 357231316: \n",
            "⚠️ Feil på slot 357231317: \n",
            "⚠️ Feil på slot 357231318: \n",
            "⚠️ Feil på slot 357231319: \n"
          ]
        },
        {
          "output_type": "stream",
          "name": "stderr",
          "text": [
            "\rHenter blokker:  41%|████▏     | 414/1000 [00:09<00:10, 54.23it/s]"
          ]
        },
        {
          "output_type": "stream",
          "name": "stdout",
          "text": [
            "⚠️ Feil på slot 357231321: \n",
            "⚠️ Feil på slot 357231320: \n",
            "⚠️ Feil på slot 357231322: \n",
            "⚠️ Feil på slot 357231323: \n",
            "⚠️ Feil på slot 357231325: \n",
            "⚠️ Feil på slot 357231324: \n",
            "⚠️ Feil på slot 357231326: \n",
            "⚠️ Feil på slot 357231327: \n",
            "⚠️ Feil på slot 357231328: \n",
            "⚠️ Feil på slot 357231329: \n",
            "⚠️ Feil på slot 357231331: \n"
          ]
        },
        {
          "output_type": "stream",
          "name": "stderr",
          "text": [
            "Henter blokker:  43%|████▎     | 426/1000 [00:09<00:11, 49.43it/s]"
          ]
        },
        {
          "output_type": "stream",
          "name": "stdout",
          "text": [
            "⚠️ Feil på slot 357231330: \n",
            "⚠️ Feil på slot 357231332: \n",
            "⚠️ Feil på slot 357231333: \n",
            "⚠️ Feil på slot 357231334: \n",
            "⚠️ Feil på slot 357231335: \n",
            "⚠️ Feil på slot 357231336: \n",
            "⚠️ Feil på slot 357231337: \n",
            "⚠️ Feil på slot 357231338: \n",
            "⚠️ Feil på slot 357231339: \n",
            "⚠️ Feil på slot 357231340: \n",
            "⚠️ Feil på slot 357231341: \n"
          ]
        },
        {
          "output_type": "stream",
          "name": "stderr",
          "text": [
            "Henter blokker:  44%|████▍     | 438/1000 [00:09<00:10, 52.75it/s]"
          ]
        },
        {
          "output_type": "stream",
          "name": "stdout",
          "text": [
            "⚠️ Feil på slot 357231342: ⚠️ Feil på slot 357231344: \n",
            "\n",
            "⚠️ Feil på slot 357231343: \n",
            "⚠️ Feil på slot 357231345: \n",
            "⚠️ Feil på slot 357231346: \n",
            "⚠️ Feil på slot 357231347: \n",
            "⚠️ Feil på slot 357231348: \n",
            "⚠️ Feil på slot 357231349: \n",
            "⚠️ Feil på slot 357231350: \n",
            "⚠️ Feil på slot 357231351: \n",
            "⚠️ Feil på slot 357231352: \n",
            "⚠️ Feil på slot 357231353: \n"
          ]
        },
        {
          "output_type": "stream",
          "name": "stderr",
          "text": [
            "Henter blokker:  45%|████▌     | 450/1000 [00:10<00:10, 50.85it/s]"
          ]
        },
        {
          "output_type": "stream",
          "name": "stdout",
          "text": [
            "⚠️ Feil på slot 357231354: \n",
            "⚠️ Feil på slot 357231356: \n",
            "⚠️ Feil på slot 357231355: \n",
            "⚠️ Feil på slot 357231357: \n",
            "⚠️ Feil på slot 357231358: \n",
            "⚠️ Feil på slot 357231359: \n",
            "⚠️ Feil på slot 357231360: \n",
            "⚠️ Feil på slot 357231361: \n",
            "⚠️ Feil på slot 357231362: \n",
            "⚠️ Feil på slot 357231363: \n"
          ]
        },
        {
          "output_type": "stream",
          "name": "stderr",
          "text": [
            "\rHenter blokker:  46%|████▌     | 456/1000 [00:10<00:11, 47.25it/s]"
          ]
        },
        {
          "output_type": "stream",
          "name": "stdout",
          "text": [
            "⚠️ Feil på slot 357231365: \n",
            "⚠️ Feil på slot 357231364: \n",
            "⚠️ Feil på slot 357231366: \n",
            "⚠️ Feil på slot 357231367: \n",
            "⚠️ Feil på slot 357231368: \n",
            "⚠️ Feil på slot 357231369: \n",
            "⚠️ Feil på slot 357231370: \n",
            "⚠️ Feil på slot 357231371: \n",
            "⚠️ Feil på slot 357231372: \n"
          ]
        },
        {
          "output_type": "stream",
          "name": "stderr",
          "text": [
            "Henter blokker:  47%|████▋     | 469/1000 [00:10<00:10, 52.00it/s]"
          ]
        },
        {
          "output_type": "stream",
          "name": "stdout",
          "text": [
            "⚠️ Feil på slot 357231374: \n",
            "⚠️ Feil på slot 357231375: \n",
            "⚠️ Feil på slot 357231376: \n",
            "⚠️ Feil på slot 357231373: \n",
            "⚠️ Feil på slot 357231378: \n",
            "⚠️ Feil på slot 357231377: \n",
            "⚠️ Feil på slot 357231379: \n",
            "⚠️ Feil på slot 357231380: \n",
            "⚠️ Feil på slot 357231381: \n",
            "⚠️ Feil på slot 357231382: \n",
            "⚠️ Feil på slot 357231383: \n"
          ]
        },
        {
          "output_type": "stream",
          "name": "stderr",
          "text": [
            "Henter blokker:  48%|████▊     | 481/1000 [00:10<00:10, 50.14it/s]"
          ]
        },
        {
          "output_type": "stream",
          "name": "stdout",
          "text": [
            "⚠️ Feil på slot 357231384: \n",
            "⚠️ Feil på slot 357231386: \n",
            "⚠️ Feil på slot 357231385: \n",
            "⚠️ Feil på slot 357231387: \n",
            "⚠️ Feil på slot 357231388: \n",
            "⚠️ Feil på slot 357231389: \n",
            "⚠️ Feil på slot 357231390: \n",
            "⚠️ Feil på slot 357231391: \n",
            "⚠️ Feil på slot 357231392: \n",
            "⚠️ Feil på slot 357231393: \n",
            "⚠️ Feil på slot 357231394: \n",
            "⚠️ Feil på slot 357231395: \n"
          ]
        },
        {
          "output_type": "stream",
          "name": "stderr",
          "text": [
            "Henter blokker:  49%|████▉     | 493/1000 [00:10<00:10, 49.32it/s]"
          ]
        },
        {
          "output_type": "stream",
          "name": "stdout",
          "text": [
            "⚠️ Feil på slot 357231396: \n",
            "⚠️ Feil på slot 357231397: \n",
            "⚠️ Feil på slot 357231398: \n",
            "⚠️ Feil på slot 357231399: \n",
            "⚠️ Feil på slot 357231400: \n",
            "⚠️ Feil på slot 357231401: \n",
            "⚠️ Feil på slot 357231402: \n",
            "⚠️ Feil på slot 357231403: \n",
            "⚠️ Feil på slot 357231404: \n",
            "⚠️ Feil på slot 357231405: \n"
          ]
        },
        {
          "output_type": "stream",
          "name": "stderr",
          "text": [
            "\rHenter blokker:  50%|████▉     | 499/1000 [00:10<00:09, 51.04it/s]"
          ]
        },
        {
          "output_type": "stream",
          "name": "stdout",
          "text": [
            "⚠️ Feil på slot 357231406: \n",
            "⚠️ Feil på slot 357231407: \n",
            "⚠️ Feil på slot 357231408: \n",
            "⚠️ Feil på slot 357231409: \n",
            "⚠️ Feil på slot 357231410: \n",
            "⚠️ Feil på slot 357231411: \n",
            "⚠️ Feil på slot 357231412: \n",
            "⚠️ Feil på slot 357231413: \n",
            "⚠️ Feil på slot 357231414: \n",
            "⚠️ Feil på slot 357231415: \n",
            "⚠️ Feil på slot 357231416: \n"
          ]
        },
        {
          "output_type": "stream",
          "name": "stderr",
          "text": [
            "Henter blokker:  51%|█████     | 511/1000 [00:11<00:09, 50.46it/s]"
          ]
        },
        {
          "output_type": "stream",
          "name": "stdout",
          "text": [
            "⚠️ Feil på slot 357231417: \n",
            "⚠️ Feil på slot 357231418: \n",
            "⚠️ Feil på slot 357231419: \n",
            "⚠️ Feil på slot 357231420: \n",
            "⚠️ Feil på slot 357231421: \n",
            "⚠️ Feil på slot 357231422: \n",
            "⚠️ Feil på slot 357231423: \n",
            "⚠️ Feil på slot 357231424: \n",
            "⚠️ Feil på slot 357231425: \n",
            "⚠️ Feil på slot 357231426: \n",
            "⚠️ Feil på slot 357231427: \n"
          ]
        },
        {
          "output_type": "stream",
          "name": "stderr",
          "text": [
            "Henter blokker:  52%|█████▏    | 523/1000 [00:11<00:09, 49.34it/s]"
          ]
        },
        {
          "output_type": "stream",
          "name": "stdout",
          "text": [
            "⚠️ Feil på slot 357231428: \n",
            "⚠️ Feil på slot 357231430: \n",
            "⚠️ Feil på slot 357231429: \n",
            "⚠️ Feil på slot 357231431: \n",
            "⚠️ Feil på slot 357231433: \n",
            "⚠️ Feil på slot 357231432: \n",
            "⚠️ Feil på slot 357231434: \n",
            "⚠️ Feil på slot 357231436: \n",
            "⚠️ Feil på slot 357231435: \n"
          ]
        },
        {
          "output_type": "stream",
          "name": "stderr",
          "text": [
            "Henter blokker:  53%|█████▎    | 534/1000 [00:11<00:10, 44.80it/s]"
          ]
        },
        {
          "output_type": "stream",
          "name": "stdout",
          "text": [
            "⚠️ Feil på slot 357231437: \n",
            "⚠️ Feil på slot 357231438: \n",
            "⚠️ Feil på slot 357231440: \n",
            "⚠️ Feil på slot 357231439: \n",
            "⚠️ Feil på slot 357231441: \n",
            "⚠️ Feil på slot 357231442: \n",
            "⚠️ Feil på slot 357231443: \n",
            "⚠️ Feil på slot 357231444: \n",
            "⚠️ Feil på slot 357231446: \n",
            "⚠️ Feil på slot 357231445: \n",
            "⚠️ Feil på slot 357231447: \n"
          ]
        },
        {
          "output_type": "stream",
          "name": "stderr",
          "text": [
            "Henter blokker:  54%|█████▍    | 544/1000 [00:11<00:09, 45.88it/s]"
          ]
        },
        {
          "output_type": "stream",
          "name": "stdout",
          "text": [
            "⚠️ Feil på slot 357231448: \n",
            "⚠️ Feil på slot 357231450: \n",
            "⚠️ Feil på slot 357231449: \n",
            "⚠️ Feil på slot 357231451: \n",
            "⚠️ Feil på slot 357231452: \n",
            "⚠️ Feil på slot 357231454: \n",
            "⚠️ Feil på slot 357231453: \n",
            "⚠️ Feil på slot 357231456: \n",
            "⚠️ Feil på slot 357231455: \n",
            "⚠️ Feil på slot 357231457: \n"
          ]
        },
        {
          "output_type": "stream",
          "name": "stderr",
          "text": [
            "Henter blokker:  56%|█████▌    | 555/1000 [00:12<00:09, 46.04it/s]"
          ]
        },
        {
          "output_type": "stream",
          "name": "stdout",
          "text": [
            "⚠️ Feil på slot 357231458: \n",
            "⚠️ Feil på slot 357231461: \n",
            "⚠️ Feil på slot 357231459: \n",
            "⚠️ Feil på slot 357231462: \n",
            "⚠️ Feil på slot 357231460: \n",
            "⚠️ Feil på slot 357231463: \n",
            "⚠️ Feil på slot 357231464: \n",
            "⚠️ Feil på slot 357231466: \n",
            "⚠️ Feil på slot 357231465: \n",
            "⚠️ Feil på slot 357231467: \n"
          ]
        },
        {
          "output_type": "stream",
          "name": "stderr",
          "text": [
            "Henter blokker:  56%|█████▋    | 565/1000 [00:12<00:09, 46.10it/s]"
          ]
        },
        {
          "output_type": "stream",
          "name": "stdout",
          "text": [
            "⚠️ Feil på slot 357231468: \n",
            "⚠️ Feil på slot 357231469: \n",
            "⚠️ Feil på slot 357231471: \n",
            "⚠️ Feil på slot 357231470: \n",
            "⚠️ Feil på slot 357231472: \n",
            "⚠️ Feil på slot 357231475: \n",
            "⚠️ Feil på slot 357231473: \n",
            "⚠️ Feil på slot 357231474: \n",
            "⚠️ Feil på slot 357231478: \n"
          ]
        },
        {
          "output_type": "stream",
          "name": "stderr",
          "text": [
            "Henter blokker:  57%|█████▊    | 575/1000 [00:12<00:09, 45.17it/s]"
          ]
        },
        {
          "output_type": "stream",
          "name": "stdout",
          "text": [
            "⚠️ Feil på slot 357231477: \n",
            "⚠️ Feil på slot 357231476: \n",
            "⚠️ Feil på slot 357231479: \n",
            "⚠️ Feil på slot 357231481: \n",
            "⚠️ Feil på slot 357231480: \n",
            "⚠️ Feil på slot 357231482: \n",
            "⚠️ Feil på slot 357231483: \n",
            "⚠️ Feil på slot 357231485: \n",
            "⚠️ Feil på slot 357231484: \n",
            "⚠️ Feil på slot 357231486: \n"
          ]
        },
        {
          "output_type": "stream",
          "name": "stderr",
          "text": [
            "\rHenter blokker:  58%|█████▊    | 580/1000 [00:12<00:09, 42.46it/s]"
          ]
        },
        {
          "output_type": "stream",
          "name": "stdout",
          "text": [
            "⚠️ Feil på slot 357231488: \n",
            "⚠️ Feil på slot 357231487: \n",
            "⚠️ Feil på slot 357231489: \n",
            "⚠️ Feil på slot 357231490: \n",
            "⚠️ Feil på slot 357231491: \n",
            "⚠️ Feil på slot 357231492: \n",
            "⚠️ Feil på slot 357231493: \n",
            "⚠️ Feil på slot 357231494: \n",
            "⚠️ Feil på slot 357231495: \n"
          ]
        },
        {
          "output_type": "stream",
          "name": "stderr",
          "text": [
            "Henter blokker:  59%|█████▉    | 590/1000 [00:13<00:09, 42.43it/s]"
          ]
        },
        {
          "output_type": "stream",
          "name": "stdout",
          "text": [
            "⚠️ Feil på slot 357231497: \n",
            "⚠️ Feil på slot 357231496: \n",
            "⚠️ Feil på slot 357231500: \n",
            "⚠️ Feil på slot 357231499: \n",
            "⚠️ Feil på slot 357231498: \n",
            "⚠️ Feil på slot 357231502: \n",
            "⚠️ Feil på slot 357231501: \n",
            "⚠️ Feil på slot 357231503: \n"
          ]
        },
        {
          "output_type": "stream",
          "name": "stderr",
          "text": [
            "Henter blokker:  60%|██████    | 601/1000 [00:13<00:10, 39.09it/s]"
          ]
        },
        {
          "output_type": "stream",
          "name": "stdout",
          "text": [
            "⚠️ Feil på slot 357231505: \n",
            "⚠️ Feil på slot 357231507: \n",
            "⚠️ Feil på slot 357231504: \n",
            "⚠️ Feil på slot 357231506: \n",
            "⚠️ Feil på slot 357231509: \n",
            "⚠️ Feil på slot 357231511: \n",
            "⚠️ Feil på slot 357231510: \n",
            "⚠️ Feil på slot 357231508: \n",
            "⚠️ Feil på slot 357231512: \n",
            "⚠️ Feil på slot 357231515: \n"
          ]
        },
        {
          "output_type": "stream",
          "name": "stderr",
          "text": [
            "\rHenter blokker:  61%|██████    | 607/1000 [00:13<00:09, 42.70it/s]"
          ]
        },
        {
          "output_type": "stream",
          "name": "stdout",
          "text": [
            "⚠️ Feil på slot 357231514: \n",
            "⚠️ Feil på slot 357231516: \n",
            "⚠️ Feil på slot 357231517: \n",
            "⚠️ Feil på slot 357231513: \n",
            "⚠️ Feil på slot 357231519: \n",
            "⚠️ Feil på slot 357231518: \n",
            "⚠️ Feil på slot 357231521: \n",
            "⚠️ Feil på slot 357231520: \n",
            "⚠️ Feil på slot 357231522: \n"
          ]
        },
        {
          "output_type": "stream",
          "name": "stderr",
          "text": [
            "Henter blokker:  62%|██████▏   | 619/1000 [00:13<00:08, 43.17it/s]"
          ]
        },
        {
          "output_type": "stream",
          "name": "stdout",
          "text": [
            "⚠️ Feil på slot 357231523: \n",
            "⚠️ Feil på slot 357231525: \n",
            "⚠️ Feil på slot 357231526: \n",
            "⚠️ Feil på slot 357231527: \n",
            "⚠️ Feil på slot 357231524: \n",
            "⚠️ Feil på slot 357231528: \n",
            "⚠️ Feil på slot 357231529: \n",
            "⚠️ Feil på slot 357231530: \n",
            "⚠️ Feil på slot 357231531: \n"
          ]
        },
        {
          "output_type": "stream",
          "name": "stderr",
          "text": [
            "Henter blokker:  63%|██████▎   | 631/1000 [00:14<00:08, 41.42it/s]"
          ]
        },
        {
          "output_type": "stream",
          "name": "stdout",
          "text": [
            "⚠️ Feil på slot 357231533: \n",
            "⚠️ Feil på slot 357231538: \n",
            "⚠️ Feil på slot 357231534: \n",
            "⚠️ Feil på slot 357231535: \n",
            "⚠️ Feil på slot 357231537: \n",
            "⚠️ Feil på slot 357231532: \n",
            "⚠️ Feil på slot 357231536: \n",
            "⚠️ Feil på slot 357231539: \n",
            "⚠️ Feil på slot 357231540: \n",
            "⚠️ Feil på slot 357231541: \n",
            "⚠️ Feil på slot 357231542: \n"
          ]
        },
        {
          "output_type": "stream",
          "name": "stderr",
          "text": [
            "\rHenter blokker:  64%|██████▍   | 638/1000 [00:14<00:08, 44.59it/s]"
          ]
        },
        {
          "output_type": "stream",
          "name": "stdout",
          "text": [
            "⚠️ Feil på slot 357231543: \n",
            "⚠️ Feil på slot 357231545: \n",
            "⚠️ Feil på slot 357231546: \n",
            "⚠️ Feil på slot 357231544: \n",
            "⚠️ Feil på slot 357231547: \n",
            "⚠️ Feil på slot 357231548: \n",
            "⚠️ Feil på slot 357231551: \n",
            "⚠️ Feil på slot 357231550: \n",
            "⚠️ Feil på slot 357231549: \n",
            "⚠️ Feil på slot 357231552: \n"
          ]
        },
        {
          "output_type": "stream",
          "name": "stderr",
          "text": [
            "Henter blokker:  65%|██████▌   | 651/1000 [00:14<00:07, 46.59it/s]"
          ]
        },
        {
          "output_type": "stream",
          "name": "stdout",
          "text": [
            "⚠️ Feil på slot 357231558: \n",
            "⚠️ Feil på slot 357231554: \n",
            "⚠️ Feil på slot 357231556: \n",
            "⚠️ Feil på slot 357231555: \n",
            "⚠️ Feil på slot 357231553: \n",
            "⚠️ Feil på slot 357231557: \n",
            "⚠️ Feil på slot 357231561: \n",
            "⚠️ Feil på slot 357231559: \n",
            "⚠️ Feil på slot 357231560: \n",
            "⚠️ Feil på slot 357231562: \n",
            "⚠️ Feil på slot 357231563: \n"
          ]
        },
        {
          "output_type": "stream",
          "name": "stderr",
          "text": [
            "\rHenter blokker:  66%|██████▌   | 657/1000 [00:14<00:08, 40.44it/s]"
          ]
        },
        {
          "output_type": "stream",
          "name": "stdout",
          "text": [
            "⚠️ Feil på slot 357231566: \n",
            "⚠️ Feil på slot 357231571: \n",
            "⚠️ Feil på slot 357231567: \n",
            "⚠️ Feil på slot 357231570: \n",
            "⚠️ Feil på slot 357231568: \n",
            "⚠️ Feil på slot 357231565: \n",
            "⚠️ Feil på slot 357231569: \n",
            "⚠️ Feil på slot 357231564: \n",
            "⚠️ Feil på slot 357231572: \n",
            "⚠️ Feil på slot 357231573: \n"
          ]
        },
        {
          "output_type": "stream",
          "name": "stderr",
          "text": [
            "Henter blokker:  67%|██████▋   | 668/1000 [00:14<00:07, 42.36it/s]"
          ]
        },
        {
          "output_type": "stream",
          "name": "stdout",
          "text": [
            "⚠️ Feil på slot 357231574: \n",
            "⚠️ Feil på slot 357231578: \n",
            "⚠️ Feil på slot 357231577: \n",
            "⚠️ Feil på slot 357231580: \n",
            "⚠️ Feil på slot 357231575: \n",
            "⚠️ Feil på slot 357231581: \n",
            "⚠️ Feil på slot 357231582: \n",
            "⚠️ Feil på slot 357231579: \n",
            "⚠️ Feil på slot 357231576: \n",
            "⚠️ Feil på slot 357231583: \n",
            "⚠️ Feil på slot 357231584: \n"
          ]
        },
        {
          "output_type": "stream",
          "name": "stderr",
          "text": [
            "Henter blokker:  68%|██████▊   | 678/1000 [00:15<00:08, 37.74it/s]"
          ]
        },
        {
          "output_type": "stream",
          "name": "stdout",
          "text": [
            "⚠️ Feil på slot 357231592: \n",
            "⚠️ Feil på slot 357231591: \n",
            "⚠️ Feil på slot 357231588: \n",
            "⚠️ Feil på slot 357231586: \n",
            "⚠️ Feil på slot 357231585: \n",
            "⚠️ Feil på slot 357231589: \n",
            "⚠️ Feil på slot 357231590: \n",
            "⚠️ Feil på slot 357231587: \n",
            "⚠️ Feil på slot 357231593: \n",
            "⚠️ Feil på slot 357231594: \n"
          ]
        },
        {
          "output_type": "stream",
          "name": "stderr",
          "text": [
            "Henter blokker:  69%|██████▉   | 694/1000 [00:15<00:07, 42.70it/s]"
          ]
        },
        {
          "output_type": "stream",
          "name": "stdout",
          "text": [
            "⚠️ Feil på slot 357231595: \n",
            "⚠️ Feil på slot 357231603: \n",
            "⚠️ Feil på slot 357231596: \n",
            "⚠️ Feil på slot 357231600: \n",
            "⚠️ Feil på slot 357231598: \n",
            "⚠️ Feil på slot 357231601: \n",
            "⚠️ Feil på slot 357231602: \n",
            "⚠️ Feil på slot 357231599: \n",
            "⚠️ Feil på slot 357231604: \n",
            "⚠️ Feil på slot 357231597: \n",
            "⚠️ Feil på slot 357231605: \n"
          ]
        },
        {
          "output_type": "stream",
          "name": "stderr",
          "text": [
            "\rHenter blokker:  70%|██████▉   | 699/1000 [00:15<00:07, 41.92it/s]"
          ]
        },
        {
          "output_type": "stream",
          "name": "stdout",
          "text": [
            "⚠️ Feil på slot 357231609: \n",
            "⚠️ Feil på slot 357231610: \n",
            "⚠️ Feil på slot 357231607: \n",
            "⚠️ Feil på slot 357231614: \n",
            "⚠️ Feil på slot 357231606: \n",
            "⚠️ Feil på slot 357231608: \n",
            "⚠️ Feil på slot 357231613: \n",
            "⚠️ Feil på slot 357231611: \n",
            "⚠️ Feil på slot 357231612: \n",
            "⚠️ Feil på slot 357231615: \n"
          ]
        },
        {
          "output_type": "stream",
          "name": "stderr",
          "text": [
            "Henter blokker:  71%|███████▏  | 714/1000 [00:15<00:05, 48.52it/s]"
          ]
        },
        {
          "output_type": "stream",
          "name": "stdout",
          "text": [
            "⚠️ Feil på slot 357231616: \n",
            "⚠️ Feil på slot 357231617: \n",
            "⚠️ Feil på slot 357231618: \n",
            "⚠️ Feil på slot 357231619: \n",
            "⚠️ Feil på slot 357231621: \n",
            "⚠️ Feil på slot 357231622: \n",
            "⚠️ Feil på slot 357231623: \n",
            "⚠️ Feil på slot 357231620: \n",
            "⚠️ Feil på slot 357231624: \n",
            "⚠️ Feil på slot 357231625: \n",
            "⚠️ Feil på slot 357231628: \n",
            "⚠️ Feil på slot 357231626: \n"
          ]
        },
        {
          "output_type": "stream",
          "name": "stderr",
          "text": [
            "\rHenter blokker:  72%|███████▏  | 720/1000 [00:16<00:06, 46.58it/s]"
          ]
        },
        {
          "output_type": "stream",
          "name": "stdout",
          "text": [
            "⚠️ Feil på slot 357231627: \n",
            "⚠️ Feil på slot 357231631: \n",
            "⚠️ Feil på slot 357231629: \n",
            "⚠️ Feil på slot 357231633: \n",
            "⚠️ Feil på slot 357231634: \n",
            "⚠️ Feil på slot 357231630: \n",
            "⚠️ Feil på slot 357231632: \n",
            "⚠️ Feil på slot 357231635: \n",
            "⚠️ Feil på slot 357231638: \n"
          ]
        },
        {
          "output_type": "stream",
          "name": "stderr",
          "text": [
            "Henter blokker:  73%|███████▎  | 731/1000 [00:16<00:05, 45.84it/s]"
          ]
        },
        {
          "output_type": "stream",
          "name": "stdout",
          "text": [
            "⚠️ Feil på slot 357231636: \n",
            "⚠️ Feil på slot 357231637: \n",
            "⚠️ Feil på slot 357231640: \n",
            "⚠️ Feil på slot 357231644: \n",
            "⚠️ Feil på slot 357231643: \n",
            "⚠️ Feil på slot 357231642: \n",
            "⚠️ Feil på slot 357231645: \n",
            "⚠️ Feil på slot 357231641: \n",
            "⚠️ Feil på slot 357231639: \n"
          ]
        },
        {
          "output_type": "stream",
          "name": "stderr",
          "text": [
            "Henter blokker:  74%|███████▍  | 741/1000 [00:16<00:05, 44.40it/s]"
          ]
        },
        {
          "output_type": "stream",
          "name": "stdout",
          "text": [
            "⚠️ Feil på slot 357231646: \n",
            "⚠️ Feil på slot 357231647: \n",
            "⚠️ Feil på slot 357231648: \n",
            "⚠️ Feil på slot 357231649: \n",
            "⚠️ Feil på slot 357231650: \n",
            "⚠️ Feil på slot 357231651: \n",
            "⚠️ Feil på slot 357231654: \n",
            "⚠️ Feil på slot 357231652: \n",
            "⚠️ Feil på slot 357231653: \n",
            "⚠️ Feil på slot 357231655: \n"
          ]
        },
        {
          "output_type": "stream",
          "name": "stderr",
          "text": [
            "Henter blokker:  75%|███████▌  | 752/1000 [00:16<00:05, 47.24it/s]"
          ]
        },
        {
          "output_type": "stream",
          "name": "stdout",
          "text": [
            "⚠️ Feil på slot 357231656: \n",
            "⚠️ Feil på slot 357231657: \n",
            "⚠️ Feil på slot 357231658: \n",
            "⚠️ Feil på slot 357231659: \n",
            "⚠️ Feil på slot 357231660: \n",
            "⚠️ Feil på slot 357231661: \n",
            "⚠️ Feil på slot 357231665: \n",
            "⚠️ Feil på slot 357231664: \n",
            "⚠️ Feil på slot 357231662: \n",
            "⚠️ Feil på slot 357231663: \n"
          ]
        },
        {
          "output_type": "stream",
          "name": "stderr",
          "text": [
            "Henter blokker:  76%|███████▋  | 764/1000 [00:17<00:04, 52.26it/s]"
          ]
        },
        {
          "output_type": "stream",
          "name": "stdout",
          "text": [
            "⚠️ Feil på slot 357231666: \n",
            "⚠️ Feil på slot 357231669: \n",
            "⚠️ Feil på slot 357231668: \n",
            "⚠️ Feil på slot 357231667: \n",
            "⚠️ Feil på slot 357231670: \n",
            "⚠️ Feil på slot 357231671: \n",
            "⚠️ Feil på slot 357231672: \n",
            "⚠️ Feil på slot 357231674: \n",
            "⚠️ Feil på slot 357231675: \n",
            "⚠️ Feil på slot 357231673: \n"
          ]
        },
        {
          "output_type": "stream",
          "name": "stderr",
          "text": [
            "\rHenter blokker:  77%|███████▋  | 770/1000 [00:17<00:04, 50.01it/s]"
          ]
        },
        {
          "output_type": "stream",
          "name": "stdout",
          "text": [
            "⚠️ Feil på slot 357231679: \n",
            "⚠️ Feil på slot 357231677: \n",
            "⚠️ Feil på slot 357231676: \n",
            "⚠️ Feil på slot 357231678: \n",
            "⚠️ Feil på slot 357231681: \n",
            "⚠️ Feil på slot 357231680: \n",
            "⚠️ Feil på slot 357231685: \n",
            "⚠️ Feil på slot 357231684: \n",
            "⚠️ Feil på slot 357231683: \n",
            "⚠️ Feil på slot 357231682: \n"
          ]
        },
        {
          "output_type": "stream",
          "name": "stderr",
          "text": [
            "Henter blokker:  78%|███████▊  | 782/1000 [00:17<00:04, 45.98it/s]"
          ]
        },
        {
          "output_type": "stream",
          "name": "stdout",
          "text": [
            "⚠️ Feil på slot 357231689: \n",
            "⚠️ Feil på slot 357231687: \n",
            "⚠️ Feil på slot 357231688: \n",
            "⚠️ Feil på slot 357231686: \n",
            "⚠️ Feil på slot 357231690: \n",
            "⚠️ Feil på slot 357231691: \n",
            "⚠️ Feil på slot 357231694: \n",
            "⚠️ Feil på slot 357231695: \n",
            "⚠️ Feil på slot 357231693: \n",
            "⚠️ Feil på slot 357231692: \n"
          ]
        },
        {
          "output_type": "stream",
          "name": "stderr",
          "text": [
            "Henter blokker:  79%|███████▉  | 792/1000 [00:17<00:04, 45.23it/s]"
          ]
        },
        {
          "output_type": "stream",
          "name": "stdout",
          "text": [
            "⚠️ Feil på slot 357231701: \n",
            "⚠️ Feil på slot 357231696: \n",
            "⚠️ Feil på slot 357231700: \n",
            "⚠️ Feil på slot 357231697: \n",
            "⚠️ Feil på slot 357231698: \n",
            "⚠️ Feil på slot 357231699: \n",
            "⚠️ Feil på slot 357231702: \n",
            "⚠️ Feil på slot 357231703: \n",
            "⚠️ Feil på slot 357231704: \n",
            "⚠️ Feil på slot 357231705: \n"
          ]
        },
        {
          "output_type": "stream",
          "name": "stderr",
          "text": [
            "Henter blokker:  80%|████████  | 805/1000 [00:17<00:04, 44.54it/s]"
          ]
        },
        {
          "output_type": "stream",
          "name": "stdout",
          "text": [
            "⚠️ Feil på slot 357231709: \n",
            "⚠️ Feil på slot 357231710: \n",
            "⚠️ Feil på slot 357231708: \n",
            "⚠️ Feil på slot 357231707: \n",
            "⚠️ Feil på slot 357231706: \n",
            "⚠️ Feil på slot 357231711: \n",
            "⚠️ Feil på slot 357231712: \n",
            "⚠️ Feil på slot 357231715: \n",
            "⚠️ Feil på slot 357231713: \n",
            "⚠️ Feil på slot 357231714: \n",
            "⚠️ Feil på slot 357231716: \n"
          ]
        },
        {
          "output_type": "stream",
          "name": "stderr",
          "text": [
            "\rHenter blokker:  81%|████████  | 812/1000 [00:18<00:03, 48.90it/s]"
          ]
        },
        {
          "output_type": "stream",
          "name": "stdout",
          "text": [
            "⚠️ Feil på slot 357231717: \n",
            "⚠️ Feil på slot 357231718: \n",
            "⚠️ Feil på slot 357231721: \n",
            "⚠️ Feil på slot 357231719: \n",
            "⚠️ Feil på slot 357231720: \n",
            "⚠️ Feil på slot 357231722: \n",
            "⚠️ Feil på slot 357231723: \n",
            "⚠️ Feil på slot 357231724: \n",
            "⚠️ Feil på slot 357231725: \n",
            "⚠️ Feil på slot 357231726: \n",
            "⚠️ Feil på slot 357231727: \n"
          ]
        },
        {
          "output_type": "stream",
          "name": "stderr",
          "text": [
            "Henter blokker:  82%|████████▎ | 825/1000 [00:18<00:03, 48.76it/s]"
          ]
        },
        {
          "output_type": "stream",
          "name": "stdout",
          "text": [
            "⚠️ Feil på slot 357231729: ⚠️ Feil på slot 357231730: \n",
            "\n",
            "⚠️ Feil på slot 357231728: \n",
            "⚠️ Feil på slot 357231731: \n",
            "⚠️ Feil på slot 357231732: \n",
            "⚠️ Feil på slot 357231733: \n",
            "⚠️ Feil på slot 357231734: \n",
            "⚠️ Feil på slot 357231735: \n",
            "⚠️ Feil på slot 357231736: \n",
            "⚠️ Feil på slot 357231737: \n",
            "⚠️ Feil på slot 357231739: \n"
          ]
        },
        {
          "output_type": "stream",
          "name": "stderr",
          "text": [
            "Henter blokker:  84%|████████▍ | 838/1000 [00:18<00:03, 48.62it/s]"
          ]
        },
        {
          "output_type": "stream",
          "name": "stdout",
          "text": [
            "⚠️ Feil på slot 357231740: \n",
            "⚠️ Feil på slot 357231738: \n",
            "⚠️ Feil på slot 357231742: \n",
            "⚠️ Feil på slot 357231741: \n",
            "⚠️ Feil på slot 357231743: \n",
            "⚠️ Feil på slot 357231745: \n",
            "⚠️ Feil på slot 357231744: \n",
            "⚠️ Feil på slot 357231746: \n",
            "⚠️ Feil på slot 357231747: \n",
            "⚠️ Feil på slot 357231748: \n",
            "⚠️ Feil på slot 357231750: \n"
          ]
        },
        {
          "output_type": "stream",
          "name": "stderr",
          "text": [
            "\rHenter blokker:  84%|████████▍ | 845/1000 [00:18<00:03, 49.42it/s]"
          ]
        },
        {
          "output_type": "stream",
          "name": "stdout",
          "text": [
            "⚠️ Feil på slot 357231752: \n",
            "⚠️ Feil på slot 357231751: \n",
            "⚠️ Feil på slot 357231749: \n",
            "⚠️ Feil på slot 357231753: \n",
            "⚠️ Feil på slot 357231755: \n",
            "⚠️ Feil på slot 357231754: \n",
            "⚠️ Feil på slot 357231756: \n",
            "⚠️ Feil på slot 357231757: \n",
            "⚠️ Feil på slot 357231758: \n",
            "⚠️ Feil på slot 357231759: \n",
            "⚠️ Feil på slot 357231761: \n",
            "⚠️ Feil på slot 357231762: \n"
          ]
        },
        {
          "output_type": "stream",
          "name": "stderr",
          "text": [
            "Henter blokker:  86%|████████▌ | 858/1000 [00:19<00:02, 49.28it/s]"
          ]
        },
        {
          "output_type": "stream",
          "name": "stdout",
          "text": [
            "⚠️ Feil på slot 357231760: \n",
            "⚠️ Feil på slot 357231763: \n",
            "⚠️ Feil på slot 357231765: \n",
            "⚠️ Feil på slot 357231764: \n",
            "⚠️ Feil på slot 357231766: \n",
            "⚠️ Feil på slot 357231767: \n",
            "⚠️ Feil på slot 357231768: \n",
            "⚠️ Feil på slot 357231769: \n",
            "⚠️ Feil på slot 357231770: \n",
            "⚠️ Feil på slot 357231771: \n",
            "⚠️ Feil på slot 357231772: \n"
          ]
        },
        {
          "output_type": "stream",
          "name": "stderr",
          "text": [
            "Henter blokker:  87%|████████▋ | 871/1000 [00:19<00:02, 52.22it/s]"
          ]
        },
        {
          "output_type": "stream",
          "name": "stdout",
          "text": [
            "⚠️ Feil på slot 357231773: \n",
            "⚠️ Feil på slot 357231774: \n",
            "⚠️ Feil på slot 357231775: \n",
            "⚠️ Feil på slot 357231776: \n",
            "⚠️ Feil på slot 357231778: \n",
            "⚠️ Feil på slot 357231779: \n",
            "⚠️ Feil på slot 357231780: \n",
            "⚠️ Feil på slot 357231781: \n",
            "⚠️ Feil på slot 357231782: \n",
            "⚠️ Feil på slot 357231777: \n",
            "⚠️ Feil på slot 357231783: \n"
          ]
        },
        {
          "output_type": "stream",
          "name": "stderr",
          "text": [
            "\rHenter blokker:  88%|████████▊ | 877/1000 [00:19<00:02, 48.06it/s]"
          ]
        },
        {
          "output_type": "stream",
          "name": "stdout",
          "text": [
            "⚠️ Feil på slot 357231784: \n",
            "⚠️ Feil på slot 357231785: \n",
            "⚠️ Feil på slot 357231786: \n",
            "⚠️ Feil på slot 357231787: \n",
            "⚠️ Feil på slot 357231788: \n",
            "⚠️ Feil på slot 357231790: \n",
            "⚠️ Feil på slot 357231789: \n",
            "⚠️ Feil på slot 357231791: \n",
            "⚠️ Feil på slot 357231792: \n",
            "⚠️ Feil på slot 357231793: \n",
            "⚠️ Feil på slot 357231794: \n"
          ]
        },
        {
          "output_type": "stream",
          "name": "stderr",
          "text": [
            "Henter blokker:  89%|████████▉ | 891/1000 [00:19<00:02, 53.72it/s]"
          ]
        },
        {
          "output_type": "stream",
          "name": "stdout",
          "text": [
            "⚠️ Feil på slot 357231795: \n",
            "⚠️ Feil på slot 357231796: \n",
            "⚠️ Feil på slot 357231797: \n",
            "⚠️ Feil på slot 357231798: \n",
            "⚠️ Feil på slot 357231799: \n",
            "⚠️ Feil på slot 357231801: \n",
            "⚠️ Feil på slot 357231800: \n",
            "⚠️ Feil på slot 357231802: \n",
            "⚠️ Feil på slot 357231803: \n",
            "⚠️ Feil på slot 357231804: \n",
            "⚠️ Feil på slot 357231805: \n"
          ]
        },
        {
          "output_type": "stream",
          "name": "stderr",
          "text": [
            "Henter blokker:  90%|█████████ | 905/1000 [00:19<00:01, 51.31it/s]"
          ]
        },
        {
          "output_type": "stream",
          "name": "stdout",
          "text": [
            "⚠️ Feil på slot 357231806: \n",
            "⚠️ Feil på slot 357231807: \n",
            "⚠️ Feil på slot 357231808: \n",
            "⚠️ Feil på slot 357231809: \n",
            "⚠️ Feil på slot 357231811: \n",
            "⚠️ Feil på slot 357231810: \n",
            "⚠️ Feil på slot 357231813: \n",
            "⚠️ Feil på slot 357231812: \n",
            "⚠️ Feil på slot 357231814: \n",
            "⚠️ Feil på slot 357231815: \n",
            "⚠️ Feil på slot 357231816: \n"
          ]
        },
        {
          "output_type": "stream",
          "name": "stderr",
          "text": [
            "\rHenter blokker:  91%|█████████ | 911/1000 [00:20<00:01, 53.19it/s]"
          ]
        },
        {
          "output_type": "stream",
          "name": "stdout",
          "text": [
            "⚠️ Feil på slot 357231817: \n",
            "⚠️ Feil på slot 357231818: \n",
            "⚠️ Feil på slot 357231819: \n",
            "⚠️ Feil på slot 357231820: \n",
            "⚠️ Feil på slot 357231821: \n",
            "⚠️ Feil på slot 357231822: \n",
            "⚠️ Feil på slot 357231823: \n",
            "⚠️ Feil på slot 357231824: \n",
            "⚠️ Feil på slot 357231825: \n",
            "⚠️ Feil på slot 357231826: \n"
          ]
        },
        {
          "output_type": "stream",
          "name": "stderr",
          "text": [
            "Henter blokker:  92%|█████████▏| 924/1000 [00:20<00:01, 47.35it/s]"
          ]
        },
        {
          "output_type": "stream",
          "name": "stdout",
          "text": [
            "⚠️ Feil på slot 357231828: \n",
            "⚠️ Feil på slot 357231827: \n",
            "⚠️ Feil på slot 357231829: \n",
            "⚠️ Feil på slot 357231833: \n",
            "⚠️ Feil på slot 357231832: \n",
            "⚠️ Feil på slot 357231830: \n",
            "⚠️ Feil på slot 357231834: \n",
            "⚠️ Feil på slot 357231835: \n",
            "⚠️ Feil på slot 357231836: \n",
            "⚠️ Feil på slot 357231837: \n",
            "⚠️ Feil på slot 357231838: \n"
          ]
        },
        {
          "output_type": "stream",
          "name": "stderr",
          "text": [
            "Henter blokker:  94%|█████████▎| 936/1000 [00:20<00:01, 48.78it/s]"
          ]
        },
        {
          "output_type": "stream",
          "name": "stdout",
          "text": [
            "⚠️ Feil på slot 357231839: \n",
            "⚠️ Feil på slot 357231841: \n",
            "⚠️ Feil på slot 357231840: \n",
            "⚠️ Feil på slot 357231842: \n",
            "⚠️ Feil på slot 357231843: \n",
            "⚠️ Feil på slot 357231831: \n",
            "⚠️ Feil på slot 357231844: \n",
            "⚠️ Feil på slot 357231845: \n",
            "⚠️ Feil på slot 357231846: \n",
            "⚠️ Feil på slot 357231847: \n",
            "⚠️ Feil på slot 357231848: \n"
          ]
        },
        {
          "output_type": "stream",
          "name": "stderr",
          "text": [
            "Henter blokker:  95%|█████████▍| 948/1000 [00:20<00:01, 49.00it/s]"
          ]
        },
        {
          "output_type": "stream",
          "name": "stdout",
          "text": [
            "⚠️ Feil på slot 357231850: \n",
            "⚠️ Feil på slot 357231849: \n",
            "⚠️ Feil på slot 357231851: \n",
            "⚠️ Feil på slot 357231852: \n",
            "⚠️ Feil på slot 357231853: \n",
            "⚠️ Feil på slot 357231854: \n",
            "⚠️ Feil på slot 357231855: \n",
            "⚠️ Feil på slot 357231856: \n",
            "⚠️ Feil på slot 357231857: \n",
            "⚠️ Feil på slot 357231859: \n",
            "⚠️ Feil på slot 357231858: \n",
            "⚠️ Feil på slot 357231860: \n"
          ]
        },
        {
          "output_type": "stream",
          "name": "stderr",
          "text": [
            "\rHenter blokker:  95%|█████████▌| 954/1000 [00:20<00:00, 49.58it/s]"
          ]
        },
        {
          "output_type": "stream",
          "name": "stdout",
          "text": [
            "⚠️ Feil på slot 357231861: \n",
            "⚠️ Feil på slot 357231862: \n",
            "⚠️ Feil på slot 357231864: \n",
            "⚠️ Feil på slot 357231863: \n",
            "⚠️ Feil på slot 357231865: \n",
            "⚠️ Feil på slot 357231866: \n",
            "⚠️ Feil på slot 357231867: \n"
          ]
        },
        {
          "output_type": "stream",
          "name": "stderr",
          "text": [
            "Henter blokker:  97%|█████████▋| 966/1000 [00:21<00:00, 49.40it/s]"
          ]
        },
        {
          "output_type": "stream",
          "name": "stdout",
          "text": [
            "⚠️ Feil på slot 357231870: \n",
            "⚠️ Feil på slot 357231868: \n",
            "⚠️ Feil på slot 357231869: \n",
            "⚠️ Feil på slot 357231871: \n",
            "⚠️ Feil på slot 357231872: \n",
            "⚠️ Feil på slot 357231874: \n",
            "⚠️ Feil på slot 357231873: \n",
            "⚠️ Feil på slot 357231875: \n",
            "⚠️ Feil på slot 357231877: \n",
            "⚠️ Feil på slot 357231876: \n",
            "⚠️ Feil på slot 357231878: \n",
            "⚠️ Feil på slot 357231881: \n"
          ]
        },
        {
          "output_type": "stream",
          "name": "stderr",
          "text": [
            "\rHenter blokker:  97%|█████████▋| 974/1000 [00:21<00:00, 51.57it/s]"
          ]
        },
        {
          "output_type": "stream",
          "name": "stdout",
          "text": [
            "⚠️ Feil på slot 357231880: \n",
            "⚠️ Feil på slot 357231879: \n",
            "⚠️ Feil på slot 357231882: \n",
            "⚠️ Feil på slot 357231883: \n",
            "⚠️ Feil på slot 357231884: \n",
            "⚠️ Feil på slot 357231885: \n",
            "⚠️ Feil på slot 357231886: \n",
            "⚠️ Feil på slot 357231887: \n",
            "⚠️ Feil på slot 357231889: \n",
            "⚠️ Feil på slot 357231890: \n",
            "⚠️ Feil på slot 357231888: \n"
          ]
        },
        {
          "output_type": "stream",
          "name": "stderr",
          "text": [
            "Henter blokker:  98%|█████████▊| 985/1000 [00:21<00:00, 45.88it/s]"
          ]
        },
        {
          "output_type": "stream",
          "name": "stdout",
          "text": [
            "⚠️ Feil på slot 357231891: ⚠️ Feil på slot 357231892: \n",
            "\n",
            "⚠️ Feil på slot 357231894: \n",
            "⚠️ Feil på slot 357231893: \n",
            "⚠️ Feil på slot 357231895: \n",
            "⚠️ Feil på slot 357231897: \n",
            "⚠️ Feil på slot 357231896: \n",
            "⚠️ Feil på slot 357231898: \n",
            "⚠️ Feil på slot 357231899: \n",
            "⚠️ Feil på slot 357231900: \n"
          ]
        },
        {
          "output_type": "stream",
          "name": "stderr",
          "text": [
            "Henter blokker: 100%|██████████| 1000/1000 [00:21<00:00, 45.77it/s]"
          ]
        },
        {
          "output_type": "stream",
          "name": "stdout",
          "text": [
            "⚠️ Feil på slot 357231903: \n",
            "⚠️ Feil på slot 357231901: \n",
            "⚠️ Feil på slot 357231904: \n",
            "⚠️ Feil på slot 357231902: \n",
            "⚠️ Feil på slot 357231905: \n",
            "⚠️ Feil på slot 357231906: \n",
            "⚠️ Feil på slot 357231907: \n",
            "⚠️ Feil på slot 357231908: \n",
            "⚠️ Feil på slot 357231909: \n",
            "⚠️ Feil på slot 357231910: \n",
            "⚠️ Feil på slot 357231911: \n"
          ]
        },
        {
          "output_type": "stream",
          "name": "stderr",
          "text": [
            "\n"
          ]
        },
        {
          "output_type": "error",
          "ename": "KeyError",
          "evalue": "'timestamp'",
          "traceback": [
            "\u001b[0;31m---------------------------------------------------------------------------\u001b[0m",
            "\u001b[0;31mKeyError\u001b[0m                                  Traceback (most recent call last)",
            "\u001b[0;32m/tmp/ipython-input-1930949862.py\u001b[0m in \u001b[0;36m<cell line: 0>\u001b[0;34m()\u001b[0m\n\u001b[1;32m     13\u001b[0m \u001b[0;34m\u001b[0m\u001b[0m\n\u001b[1;32m     14\u001b[0m \u001b[0mdf\u001b[0m \u001b[0;34m=\u001b[0m \u001b[0mpd\u001b[0m\u001b[0;34m.\u001b[0m\u001b[0mDataFrame\u001b[0m\u001b[0;34m(\u001b[0m\u001b[0mresults\u001b[0m\u001b[0;34m)\u001b[0m\u001b[0;34m\u001b[0m\u001b[0;34m\u001b[0m\u001b[0m\n\u001b[0;32m---> 15\u001b[0;31m \u001b[0mdf\u001b[0m\u001b[0;34m[\u001b[0m\u001b[0;34m'timestamp'\u001b[0m\u001b[0;34m]\u001b[0m \u001b[0;34m=\u001b[0m \u001b[0mpd\u001b[0m\u001b[0;34m.\u001b[0m\u001b[0mto_datetime\u001b[0m\u001b[0;34m(\u001b[0m\u001b[0mdf\u001b[0m\u001b[0;34m[\u001b[0m\u001b[0;34m'timestamp'\u001b[0m\u001b[0;34m]\u001b[0m\u001b[0;34m,\u001b[0m \u001b[0munit\u001b[0m\u001b[0;34m=\u001b[0m\u001b[0;34m's'\u001b[0m\u001b[0;34m)\u001b[0m\u001b[0;34m\u001b[0m\u001b[0;34m\u001b[0m\u001b[0m\n\u001b[0m\u001b[1;32m     16\u001b[0m \u001b[0;34m\u001b[0m\u001b[0m\n\u001b[1;32m     17\u001b[0m \u001b[0mdf\u001b[0m\u001b[0;34m.\u001b[0m\u001b[0mto_parquet\u001b[0m\u001b[0;34m(\u001b[0m\u001b[0;34m\"solana_blocks.parquet\"\u001b[0m\u001b[0;34m,\u001b[0m \u001b[0mindex\u001b[0m\u001b[0;34m=\u001b[0m\u001b[0;32mFalse\u001b[0m\u001b[0;34m,\u001b[0m \u001b[0mcompression\u001b[0m\u001b[0;34m=\u001b[0m\u001b[0;34m'snappy'\u001b[0m\u001b[0;34m)\u001b[0m\u001b[0;34m\u001b[0m\u001b[0;34m\u001b[0m\u001b[0m\n",
            "\u001b[0;32m/usr/local/lib/python3.11/dist-packages/pandas/core/frame.py\u001b[0m in \u001b[0;36m__getitem__\u001b[0;34m(self, key)\u001b[0m\n\u001b[1;32m   4100\u001b[0m             \u001b[0;32mif\u001b[0m \u001b[0mself\u001b[0m\u001b[0;34m.\u001b[0m\u001b[0mcolumns\u001b[0m\u001b[0;34m.\u001b[0m\u001b[0mnlevels\u001b[0m \u001b[0;34m>\u001b[0m \u001b[0;36m1\u001b[0m\u001b[0;34m:\u001b[0m\u001b[0;34m\u001b[0m\u001b[0;34m\u001b[0m\u001b[0m\n\u001b[1;32m   4101\u001b[0m                 \u001b[0;32mreturn\u001b[0m \u001b[0mself\u001b[0m\u001b[0;34m.\u001b[0m\u001b[0m_getitem_multilevel\u001b[0m\u001b[0;34m(\u001b[0m\u001b[0mkey\u001b[0m\u001b[0;34m)\u001b[0m\u001b[0;34m\u001b[0m\u001b[0;34m\u001b[0m\u001b[0m\n\u001b[0;32m-> 4102\u001b[0;31m             \u001b[0mindexer\u001b[0m \u001b[0;34m=\u001b[0m \u001b[0mself\u001b[0m\u001b[0;34m.\u001b[0m\u001b[0mcolumns\u001b[0m\u001b[0;34m.\u001b[0m\u001b[0mget_loc\u001b[0m\u001b[0;34m(\u001b[0m\u001b[0mkey\u001b[0m\u001b[0;34m)\u001b[0m\u001b[0;34m\u001b[0m\u001b[0;34m\u001b[0m\u001b[0m\n\u001b[0m\u001b[1;32m   4103\u001b[0m             \u001b[0;32mif\u001b[0m \u001b[0mis_integer\u001b[0m\u001b[0;34m(\u001b[0m\u001b[0mindexer\u001b[0m\u001b[0;34m)\u001b[0m\u001b[0;34m:\u001b[0m\u001b[0;34m\u001b[0m\u001b[0;34m\u001b[0m\u001b[0m\n\u001b[1;32m   4104\u001b[0m                 \u001b[0mindexer\u001b[0m \u001b[0;34m=\u001b[0m \u001b[0;34m[\u001b[0m\u001b[0mindexer\u001b[0m\u001b[0;34m]\u001b[0m\u001b[0;34m\u001b[0m\u001b[0;34m\u001b[0m\u001b[0m\n",
            "\u001b[0;32m/usr/local/lib/python3.11/dist-packages/pandas/core/indexes/range.py\u001b[0m in \u001b[0;36mget_loc\u001b[0;34m(self, key)\u001b[0m\n\u001b[1;32m    415\u001b[0m                 \u001b[0;32mraise\u001b[0m \u001b[0mKeyError\u001b[0m\u001b[0;34m(\u001b[0m\u001b[0mkey\u001b[0m\u001b[0;34m)\u001b[0m \u001b[0;32mfrom\u001b[0m \u001b[0merr\u001b[0m\u001b[0;34m\u001b[0m\u001b[0;34m\u001b[0m\u001b[0m\n\u001b[1;32m    416\u001b[0m         \u001b[0;32mif\u001b[0m \u001b[0misinstance\u001b[0m\u001b[0;34m(\u001b[0m\u001b[0mkey\u001b[0m\u001b[0;34m,\u001b[0m \u001b[0mHashable\u001b[0m\u001b[0;34m)\u001b[0m\u001b[0;34m:\u001b[0m\u001b[0;34m\u001b[0m\u001b[0;34m\u001b[0m\u001b[0m\n\u001b[0;32m--> 417\u001b[0;31m             \u001b[0;32mraise\u001b[0m \u001b[0mKeyError\u001b[0m\u001b[0;34m(\u001b[0m\u001b[0mkey\u001b[0m\u001b[0;34m)\u001b[0m\u001b[0;34m\u001b[0m\u001b[0;34m\u001b[0m\u001b[0m\n\u001b[0m\u001b[1;32m    418\u001b[0m         \u001b[0mself\u001b[0m\u001b[0;34m.\u001b[0m\u001b[0m_check_indexing_error\u001b[0m\u001b[0;34m(\u001b[0m\u001b[0mkey\u001b[0m\u001b[0;34m)\u001b[0m\u001b[0;34m\u001b[0m\u001b[0;34m\u001b[0m\u001b[0m\n\u001b[1;32m    419\u001b[0m         \u001b[0;32mraise\u001b[0m \u001b[0mKeyError\u001b[0m\u001b[0;34m(\u001b[0m\u001b[0mkey\u001b[0m\u001b[0;34m)\u001b[0m\u001b[0;34m\u001b[0m\u001b[0;34m\u001b[0m\u001b[0m\n",
            "\u001b[0;31mKeyError\u001b[0m: 'timestamp'"
          ]
        }
      ],
      "source": [
        "start_time = time.time()\n",
        "\n",
        "latest_slot = get_latest_slot()\n",
        "n = 1000\n",
        "slots = list(range(latest_slot - n, latest_slot))\n",
        "\n",
        "results = []\n",
        "with ThreadPoolExecutor(max_workers=10) as executor:\n",
        "    futures = {executor.submit(get_block_data, slot): slot for slot in slots}\n",
        "    for future in tqdm(as_completed(futures), total=len(futures), desc=\"Henter blokker\"):\n",
        "        data = future.result()\n",
        "        results.extend(data)\n",
        "\n",
        "df = pd.DataFrame(results)\n",
        "df['timestamp'] = pd.to_datetime(df['timestamp'], unit='s')\n",
        "\n",
        "df.to_parquet(\"solana_blocks.parquet\", index=False, compression='snappy')\n",
        "\n",
        "total_time = time.time() - start_time\n",
        "print(\"✅ Lagret som 'solana_blocks.parquet'\")\n",
        "print(f\"⏱️ Total tid: {total_time:.2f} sekunder for {n} blokker\")"
      ]
    },
    {
      "cell_type": "code",
      "metadata": {
        "colab": {
          "base_uri": "https://localhost:8080/"
        },
        "id": "a42da820",
        "outputId": "c076b618-7043-49e1-896e-87640911749a"
      },
      "source": [
        "response = client.get_slot()\n",
        "print(type(response))\n",
        "print(dir(response))"
      ],
      "id": "a42da820",
      "execution_count": 5,
      "outputs": [
        {
          "output_type": "stream",
          "name": "stdout",
          "text": [
            "<class 'solders.rpc.responses.GetSlotResp'>\n",
            "['__bytes__', '__class__', '__delattr__', '__dir__', '__doc__', '__eq__', '__format__', '__ge__', '__getattribute__', '__getstate__', '__gt__', '__hash__', '__init__', '__init_subclass__', '__le__', '__lt__', '__module__', '__ne__', '__new__', '__reduce__', '__reduce_ex__', '__repr__', '__setattr__', '__sizeof__', '__str__', '__subclasshook__', 'from_bytes', 'from_json', 'to_json', 'value']\n"
          ]
        }
      ]
    },
    {
      "cell_type": "code",
      "metadata": {
        "id": "09c0504a"
      },
      "source": [
        "slot_to_inspect = latest_slot - 10  # Inspect a block that was likely attempted in the previous run\n",
        "try:\n",
        "    response = client.get_block(slot_to_inspect, max_supported_transaction_version=0)\n",
        "    print(type(response))\n",
        "    print(response)\n",
        "except Exception as e:\n",
        "    print(f\"Error fetching block {slot_to_inspect}: {e}\")"
      ],
      "id": "09c0504a",
      "execution_count": null,
      "outputs": []
    }
  ],
  "metadata": {
    "colab": {
      "provenance": [],
      "include_colab_link": true
    },
    "language_info": {
      "name": "python"
    },
    "kernelspec": {
      "name": "python3",
      "display_name": "Python 3"
    }
  },
  "nbformat": 4,
  "nbformat_minor": 5
}