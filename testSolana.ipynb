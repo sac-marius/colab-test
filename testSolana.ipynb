{
  "nbformat": 4,
  "nbformat_minor": 0,
  "metadata": {
    "colab": {
      "provenance": [],
      "toc_visible": true,
      "authorship_tag": "ABX9TyOSHQxygnM9Rnpgkkg/jhqB",
      "include_colab_link": true
    },
    "kernelspec": {
      "name": "python3",
      "display_name": "Python 3"
    },
    "language_info": {
      "name": "python"
    }
  },
  "cells": [
    {
      "cell_type": "markdown",
      "metadata": {
        "id": "view-in-github",
        "colab_type": "text"
      },
      "source": [
        "<a href=\"https://colab.research.google.com/github/sac-marius/colab-test/blob/main/testSolana.ipynb\" target=\"_parent\"><img src=\"https://colab.research.google.com/assets/colab-badge.svg\" alt=\"Open In Colab\"/></a>"
      ]
    },
    {
      "cell_type": "code",
      "execution_count": 1,
      "metadata": {
        "colab": {
          "base_uri": "https://localhost:8080/"
        },
        "id": "r2HDMyJ0yfIS",
        "outputId": "7a025c05-dac4-4dba-dc63-2417ca5c1073"
      },
      "outputs": [
        {
          "output_type": "stream",
          "name": "stdout",
          "text": [
            "Collecting solana\n",
            "  Downloading solana-0.36.7-py3-none-any.whl.metadata (5.3 kB)\n",
            "Collecting base58\n",
            "  Downloading base58-2.1.1-py3-none-any.whl.metadata (3.1 kB)\n",
            "Collecting construct-typing<0.7.0,>=0.6.2 (from solana)\n",
            "  Downloading construct_typing-0.6.2-py3-none-any.whl.metadata (7.1 kB)\n",
            "Requirement already satisfied: httpx>=0.23.0 in /usr/local/lib/python3.11/dist-packages (from solana) (0.28.1)\n",
            "Collecting solders<0.27,>=0.23 (from solana)\n",
            "  Downloading solders-0.26.0-cp37-abi3-manylinux_2_17_x86_64.manylinux2014_x86_64.whl.metadata (3.6 kB)\n",
            "Requirement already satisfied: typing-extensions>=4.2.0 in /usr/local/lib/python3.11/dist-packages (from solana) (4.14.1)\n",
            "Requirement already satisfied: websockets<=15.0.1,>=9.0 in /usr/local/lib/python3.11/dist-packages (from solana) (15.0.1)\n",
            "Collecting construct==2.10.68 (from construct-typing<0.7.0,>=0.6.2->solana)\n",
            "  Downloading construct-2.10.68.tar.gz (57 kB)\n",
            "\u001b[2K     \u001b[90m━━━━━━━━━━━━━━━━━━━━━━━━━━━━━━━━━━━━━━━━\u001b[0m \u001b[32m57.9/57.9 kB\u001b[0m \u001b[31m4.7 MB/s\u001b[0m eta \u001b[36m0:00:00\u001b[0m\n",
            "\u001b[?25h  Preparing metadata (setup.py) ... \u001b[?25l\u001b[?25hdone\n",
            "Requirement already satisfied: anyio in /usr/local/lib/python3.11/dist-packages (from httpx>=0.23.0->solana) (4.9.0)\n",
            "Requirement already satisfied: certifi in /usr/local/lib/python3.11/dist-packages (from httpx>=0.23.0->solana) (2025.7.14)\n",
            "Requirement already satisfied: httpcore==1.* in /usr/local/lib/python3.11/dist-packages (from httpx>=0.23.0->solana) (1.0.9)\n",
            "Requirement already satisfied: idna in /usr/local/lib/python3.11/dist-packages (from httpx>=0.23.0->solana) (3.10)\n",
            "Requirement already satisfied: h11>=0.16 in /usr/local/lib/python3.11/dist-packages (from httpcore==1.*->httpx>=0.23.0->solana) (0.16.0)\n",
            "Collecting jsonalias==0.1.1 (from solders<0.27,>=0.23->solana)\n",
            "  Downloading jsonalias-0.1.1-py3-none-any.whl.metadata (469 bytes)\n",
            "Requirement already satisfied: sniffio>=1.1 in /usr/local/lib/python3.11/dist-packages (from anyio->httpx>=0.23.0->solana) (1.3.1)\n",
            "Downloading solana-0.36.7-py3-none-any.whl (62 kB)\n",
            "\u001b[2K   \u001b[90m━━━━━━━━━━━━━━━━━━━━━━━━━━━━━━━━━━━━━━━━\u001b[0m \u001b[32m62.5/62.5 kB\u001b[0m \u001b[31m5.1 MB/s\u001b[0m eta \u001b[36m0:00:00\u001b[0m\n",
            "\u001b[?25hDownloading base58-2.1.1-py3-none-any.whl (5.6 kB)\n",
            "Downloading construct_typing-0.6.2-py3-none-any.whl (23 kB)\n",
            "Downloading solders-0.26.0-cp37-abi3-manylinux_2_17_x86_64.manylinux2014_x86_64.whl (13.5 MB)\n",
            "\u001b[2K   \u001b[90m━━━━━━━━━━━━━━━━━━━━━━━━━━━━━━━━━━━━━━━━\u001b[0m \u001b[32m13.5/13.5 MB\u001b[0m \u001b[31m107.0 MB/s\u001b[0m eta \u001b[36m0:00:00\u001b[0m\n",
            "\u001b[?25hDownloading jsonalias-0.1.1-py3-none-any.whl (1.3 kB)\n",
            "Building wheels for collected packages: construct\n",
            "  Building wheel for construct (setup.py) ... \u001b[?25l\u001b[?25hdone\n",
            "  Created wheel for construct: filename=construct-2.10.68-py3-none-any.whl size=59223 sha256=2bdd198fa1d652da7ef983a0d64eaa9c65ea4a8a0b05de4571b988078a00c702\n",
            "  Stored in directory: /root/.cache/pip/wheels/6a/5b/a1/35e70b419451f0f619898c0f9ec10f3d920721daed7bc24eab\n",
            "Successfully built construct\n",
            "Installing collected packages: jsonalias, construct, base58, solders, construct-typing, solana\n",
            "Successfully installed base58-2.1.1 construct-2.10.68 construct-typing-0.6.2 jsonalias-0.1.1 solana-0.36.7 solders-0.26.0\n"
          ]
        }
      ],
      "source": [
        "!pip install solana base58"
      ]
    },
    {
      "cell_type": "code",
      "source": [
        "from solana.rpc.api import Client\n",
        "\n",
        "client = Client(\"https://api.mainnet-beta.solana.com\")\n",
        "latest_slot = client.get_slot().value\n",
        "print(\"Siste slot er:\", latest_slot)"
      ],
      "metadata": {
        "colab": {
          "base_uri": "https://localhost:8080/"
        },
        "id": "UJs_a1Jhy8ms",
        "outputId": "62367afa-802d-4763-d43b-77bbe2176d52"
      },
      "execution_count": 3,
      "outputs": [
        {
          "output_type": "stream",
          "name": "stdout",
          "text": [
            "Siste slot er: 357127317\n"
          ]
        }
      ]
    },
    {
      "cell_type": "code",
      "source": [
        "from solana.rpc.api import Client\n",
        "\n",
        "client = Client(\"https://api.mainnet-beta.solana.com\")\n",
        "slot = 357127000  # eksempel\n",
        "\n",
        "# FIX: legg til max_supported_transaction_version=0\n",
        "block_response = client.get_block(slot, max_supported_transaction_version=0)\n",
        "\n",
        "if not block_response.value:\n",
        "    print(f\"Ingen blokkdata for slot {slot}\")\n",
        "else:\n",
        "    txs = block_response.value.transactions\n",
        "\n",
        "    all_addresses = set()\n",
        "\n",
        "    for tx in txs:\n",
        "        message = tx.transaction.message\n",
        "        account_keys = message.account_keys\n",
        "\n",
        "        for pubkey in account_keys:\n",
        "            all_addresses.add(str(pubkey))\n",
        "\n",
        "    print(f\"Antall unike adresser i blokk {slot}: {len(all_addresses)}\")  # ✅\n",
        "\n"
      ],
      "metadata": {
        "colab": {
          "base_uri": "https://localhost:8080/"
        },
        "id": "GTk--_HK6Fht",
        "outputId": "38fd8c74-9fdd-4280-d1a1-e5ac41f5f25b"
      },
      "execution_count": 17,
      "outputs": [
        {
          "output_type": "stream",
          "name": "stdout",
          "text": [
            "Antall unike adresser i blokk 357127000: 4193\n"
          ]
        }
      ]
    }
  ]
}